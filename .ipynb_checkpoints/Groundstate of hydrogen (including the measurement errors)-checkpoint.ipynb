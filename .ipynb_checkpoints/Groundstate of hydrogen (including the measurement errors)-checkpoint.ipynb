{
 "cells": [
  {
   "cell_type": "code",
   "execution_count": 1,
   "id": "88acfac6",
   "metadata": {},
   "outputs": [
    {
     "name": "stdout",
     "output_type": "stream",
     "text": [
      "The quantum gates which are modelled in this code and their notations-\n",
      "--------------------------------------------------------------------------------\n",
      "Pauli X \t\t PX\n",
      "Pauli Y \t\t PY\n",
      "Pauli Z \t\t PZ\n",
      "Hadamard \t\t HD\n",
      "\n",
      "\n",
      "Controlled Z \t\t CZ \t\t Format:Tar_Con=[[control, target]]\n",
      "Controlled CZS \t\t CCZS \t\t Format:Tar_Con=[[control, target1, target2, phi]]\n"
     ]
    }
   ],
   "source": [
    "import numpy as np\n",
    "from qutip import*\n",
    "sqrt = np.sqrt\n",
    "pi   = np.pi\n",
    "import Chalmers_Simulator_mesolve as CS\n",
    "class Add_gate:\n",
    "    def __init__(gate, name, Tar_Con, angle):\n",
    "        gate.name    = name\n",
    "        gate.Tar_Con = Tar_Con\n",
    "        gate.angle   = angle"
   ]
  },
  {
   "cell_type": "code",
   "execution_count": 16,
   "id": "8c92069e",
   "metadata": {},
   "outputs": [],
   "source": [
    "Nqubits= 2\n",
    "Nlevels= 3\n",
    "Paulis_gt = 2.00e-8\n",
    "CZ_gt = 2.71e-7\n",
    "Diss = [35.98e-6, 36.24e-6]\n",
    "Deph = [38.74e-6, 39.34e-6]\n",
    "Alpha = -2*pi*300e6\n",
    "ZZ_list = [[0,1]]\n",
    "ZZ_strength = [2*pi*100e3]\n",
    "Hamiltonian, c_ops = CS.create_system_Hamiltonian(Nqubits, Nlevels, Paulis_gt, CZ_gt, 0, Alpha, Diss, \\\n",
    "                                                  Deph, Texc = [], ZZ_list=[], ZZ_strength=[])\n",
    "\n",
    "Sz = Qobj(np.array(np.array([[1, 0, 0], [0, -1, 0], [0, 0, 1]])))\n",
    "Sx = Qobj(np.array(np.array([[0, 1, 0], [1, 0, 0], [0, 0, 1]])))\n",
    "Un = qeye(3)\n",
    "\n",
    "# Calculating the cost function\n",
    "H1= -1.0537076071291114*   tensor(Un,  Un)\n",
    "H2=  0.3939836794385142*   tensor(Un,  Sz)\n",
    "H3= -0.3939836794385142*   tensor(Sz,  Un)\n",
    "H4= -0.011236585233181995* tensor(Sz,  Sz)\n",
    "H5=  0.181288808211496*    tensor(Sx,  Sx)\n",
    "cost_function= H1 #+ H2 + H3 + H4 + H5\n",
    "\n",
    "Theta_range= np.linspace(0,2*pi,50)\n",
    "state=[]\n",
    "cost=[]\n",
    "Ini = tensor(basis(3,0), basis(3,0))"
   ]
  },
  {
   "cell_type": "code",
   "execution_count": 17,
   "id": "6b4e18ef",
   "metadata": {},
   "outputs": [],
   "source": [
    "CF00 = [0.968, 0.020, 0.011, 0.000]\n",
    "CF01 = [0.059, 0.930, 0.010, 0.011]\n",
    "CF10 = [0.059, 0.001, 0.921, 0.019]\n",
    "CF11 = [0.040, 0.057, 0.056, 0.884]\n",
    "CM = Qobj([CF00, CF01, CF10, CF11])\n",
    "\n",
    "coeff = [-1.0537076071291114, 0.3939836794385142, -0.3939836794385142, \\\n",
    "         -0.011236585233181995, 0.181288808211496]"
   ]
  },
  {
   "cell_type": "code",
   "execution_count": 40,
   "id": "31bb1d28",
   "metadata": {},
   "outputs": [
    {
     "name": "stdout",
     "output_type": "stream",
     "text": [
      "-1.0537076071291116\n",
      "[(0.8359650505503964-7.864718735068686e-16j)]\n"
     ]
    }
   ],
   "source": [
    "cost = []\n",
    "Theta_range = [0.85*pi]\n",
    "for i, theta in enumerate(Theta_range):\n",
    "    \n",
    "    gate=[]\n",
    "    gate.append(Add_gate(name=[\"PX\" , \"HD\"], Tar_Con=[0,1],   angle=[pi, 0]           ))\n",
    "    gate.append(Add_gate(name=[\"PX\" , \"PZ\"], Tar_Con=[0,1],   angle=[pi/2, theta]     ))\n",
    "    gate.append(Add_gate(name=[\"HD\"       ], Tar_Con=[1],     angle=[0]               ))\n",
    "    gate.append(Add_gate(name=[\"CZ\"       ], Tar_Con=[[0,1]], angle=[0]               ))\n",
    "    gate.append(Add_gate(name=[\"PX\"       ], Tar_Con=[0],     angle=[-pi/2]           ))\n",
    "    fstate = CS.Execute(Hamiltonian, c_ops, gate, Ini)\n",
    "    print(expect(cost_function, fstate))\n",
    "    \n",
    "    \n",
    "    \n",
    "    # Measurment part begins\n",
    "\n",
    "    gate=[]\n",
    "    gate.append(Add_gate(name=[\"U\" , \"U\"],  Tar_Con=[0,1],   angle=[0, 0]           ))\n",
    "#     gate.append(Add_gate(name=[\"U\" , \"PZ\"], Tar_Con=[0,1],   angle=[0, 0]           ))\n",
    "#     gate.append(Add_gate(name=[\"PZ\" , \"U\"], Tar_Con=[0,1],   angle=[0, 0]           ))\n",
    "#     gate.append(Add_gate(name=[\"PZ\" , \"PZ\"],Tar_Con=[0,1],   angle=[0, 0]           ))\n",
    "#     gate.append(Add_gate(name=[\"PX\" , \"PX\"],Tar_Con=[0,1],   angle=[pi/2, pi/2]     ))\n",
    "    \n",
    "    cost.append(CS.Measurement(Hamiltonian, fstate, gate, CM, coeff))\n",
    "    print(cost) \n",
    "   \n",
    "    if np.mod(i+1, 10) == 0:\n",
    "        print(i+1, 'of', len(Theta_range), 'completed')"
   ]
  },
  {
   "cell_type": "code",
   "execution_count": 36,
   "id": "fb2655ef",
   "metadata": {},
   "outputs": [
    {
     "data": {
      "text/latex": [
       "Quantum object: dims = [[4], [1]], shape = (4, 1), type = ket\\begin{equation*}\\left(\\begin{array}{*{11}c}0.061\\\\0.842\\\\0.045\\\\0.019\\\\\\end{array}\\right)\\end{equation*}"
      ],
      "text/plain": [
       "Quantum object: dims = [[4], [1]], shape = (4, 1), type = ket\n",
       "Qobj data =\n",
       "[[0.06119929-2.27947763e-17j]\n",
       " [0.84239481-5.69770291e-16j]\n",
       " [0.04461002+1.19039072e-17j]\n",
       " [0.01859539+2.11055500e-16j]]"
      ]
     },
     "execution_count": 36,
     "metadata": {},
     "output_type": "execute_result"
    }
   ],
   "source": [
    "x = _3to2levels(fstate)\n",
    "x = Qobj(x*CM)"
   ]
  },
  {
   "cell_type": "code",
   "execution_count": 34,
   "id": "0d2b97cd",
   "metadata": {},
   "outputs": [
    {
     "data": {
      "text/latex": [
       "Quantum object: dims = [[4], [1]], shape = (4, 1), type = ket\\begin{equation*}\\left(\\begin{array}{*{11}c}0.005\\\\0.905\\\\0.038\\\\0.009\\\\\\end{array}\\right)\\end{equation*}"
      ],
      "text/plain": [
       "Quantum object: dims = [[4], [1]], shape = (4, 1), type = ket\n",
       "Qobj data =\n",
       "[[0.00537022+4.24871084e-18j]\n",
       " [0.90509559-6.27858401e-16j]\n",
       " [0.03800047+4.70561920e-18j]\n",
       " [0.00895626+2.46462144e-16j]]"
      ]
     },
     "execution_count": 34,
     "metadata": {},
     "output_type": "execute_result"
    }
   ],
   "source": [
    "Qobj(x)"
   ]
  },
  {
   "cell_type": "code",
   "execution_count": 37,
   "id": "a18f5431",
   "metadata": {},
   "outputs": [
    {
     "data": {
      "text/latex": [
       "Quantum object: dims = [[2, 2], [2, 2]], shape = (4, 4), type = oper, isherm = True\\begin{equation*}\\left(\\begin{array}{*{11}c}1.0 & 0.0 & 0.0 & 0.0\\\\0.0 & -1.0 & 0.0 & 0.0\\\\0.0 & 0.0 & -1.0 & 0.0\\\\0.0 & 0.0 & 0.0 & 1.0\\\\\\end{array}\\right)\\end{equation*}"
      ],
      "text/plain": [
       "Quantum object: dims = [[2, 2], [2, 2]], shape = (4, 4), type = oper, isherm = True\n",
       "Qobj data =\n",
       "[[ 1.  0.  0.  0.]\n",
       " [ 0. -1.  0.  0.]\n",
       " [ 0.  0. -1.  0.]\n",
       " [ 0.  0.  0.  1.]]"
      ]
     },
     "execution_count": 37,
     "metadata": {},
     "output_type": "execute_result"
    }
   ],
   "source": [
    "tensor(sigmaz(), sigmaz())"
   ]
  },
  {
   "cell_type": "code",
   "execution_count": 39,
   "id": "da382ca5",
   "metadata": {},
   "outputs": [
    {
     "data": {
      "text/plain": [
       "-1.0537076071291116"
      ]
     },
     "execution_count": 39,
     "metadata": {},
     "output_type": "execute_result"
    }
   ],
   "source": [
    "expect(cost_function, fstate)"
   ]
  },
  {
   "cell_type": "code",
   "execution_count": null,
   "id": "ba0bd32d",
   "metadata": {},
   "outputs": [],
   "source": []
  },
  {
   "cell_type": "code",
   "execution_count": null,
   "id": "c132bcd5",
   "metadata": {},
   "outputs": [],
   "source": []
  },
  {
   "cell_type": "code",
   "execution_count": null,
   "id": "ceb174b5",
   "metadata": {},
   "outputs": [],
   "source": []
  },
  {
   "cell_type": "code",
   "execution_count": 25,
   "id": "5aa28234",
   "metadata": {},
   "outputs": [],
   "source": [
    "import itertools as it\n",
    "def _3to2levels(dm):\n",
    "    '''\n",
    "    This function returns the density matrix in the computational subspace.\n",
    "    \n",
    "    Arguments-\n",
    "    dm          :      Density matrix in the total Hilbert space\n",
    "    \n",
    "    Returns-\n",
    "    Prob_array  :      Array of probabilities in the computational space\n",
    "    \n",
    "    '''\n",
    "\n",
    "\n",
    "    levels= list(map(\",\".join, it.product(*[map(str, range(Nlevels))])))\n",
    "    states = [\"\".join(seq) for seq in it.product(levels, repeat=Nqubits)]\n",
    "    Prob_array = []\n",
    "    counter = 0\n",
    "    for i in states:\n",
    "        if '2' not in i:\n",
    "            Prob_array.append(dm[counter, counter])\n",
    "        counter = counter + 1\n",
    "    \n",
    "    return np.array(Prob_array)"
   ]
  },
  {
   "cell_type": "code",
   "execution_count": null,
   "id": "96e415e6",
   "metadata": {},
   "outputs": [],
   "source": []
  },
  {
   "cell_type": "code",
   "execution_count": null,
   "id": "be1c2acc",
   "metadata": {},
   "outputs": [],
   "source": []
  },
  {
   "cell_type": "code",
   "execution_count": null,
   "id": "46cf6f81",
   "metadata": {},
   "outputs": [],
   "source": []
  },
  {
   "cell_type": "code",
   "execution_count": null,
   "id": "c9969391",
   "metadata": {},
   "outputs": [],
   "source": []
  }
 ],
 "metadata": {
  "kernelspec": {
   "display_name": "Python 3",
   "language": "python",
   "name": "python3"
  },
  "language_info": {
   "codemirror_mode": {
    "name": "ipython",
    "version": 3
   },
   "file_extension": ".py",
   "mimetype": "text/x-python",
   "name": "python",
   "nbconvert_exporter": "python",
   "pygments_lexer": "ipython3",
   "version": "3.8.8"
  }
 },
 "nbformat": 4,
 "nbformat_minor": 5
}
