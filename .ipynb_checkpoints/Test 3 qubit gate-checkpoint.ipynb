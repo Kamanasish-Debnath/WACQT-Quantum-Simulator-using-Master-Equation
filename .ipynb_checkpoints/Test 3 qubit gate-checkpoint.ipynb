{
 "cells": [
  {
   "cell_type": "code",
   "execution_count": 1,
   "id": "c9a6bf4f",
   "metadata": {},
   "outputs": [],
   "source": [
    "import numpy as np\n",
    "from qutip import*\n",
    "sqrt = np.sqrt\n",
    "pi   = np.pi"
   ]
  },
  {
   "cell_type": "code",
   "execution_count": 2,
   "id": "a908e943",
   "metadata": {},
   "outputs": [],
   "source": [
    "A = destroy(3)\n",
    "Alpha = -2*pi*200e6"
   ]
  },
  {
   "cell_type": "code",
   "execution_count": 136,
   "id": "7ad75f20",
   "metadata": {},
   "outputs": [],
   "source": [
    "Nlevels = 3\n",
    "Nqubits = 3\n",
    "def CZS(control, target1, target2):\n",
    "    \n",
    "    '''\n",
    "    This function returns the two operators for three qubit gate Controlled CZs \n",
    "    on which the drives lambda_1 and lambda_2 can be applied with an exponential \n",
    "    factor to account for the nonlinearity of the third energy level. \n",
    "    Refer PRX QUANTUM 2, 040348 (2021).\n",
    "    \n",
    "    Arguments-\n",
    "    control        :      control qubit (q0 in the main article)\n",
    "    target1        :      first target qubit (q1 in the main article)\n",
    "    target2        :      second target qubit (q2 in the main article)\n",
    "    \n",
    "    Returns-\n",
    "    oper_lambda1   :      |110><200| equivalent of the main article \n",
    "                          in the total Hilbert space.\n",
    "                          \n",
    "    oper_lambda2   :      |101><200| equivalent of the main article\n",
    "                          in the total Hilbert space.\n",
    "    \n",
    "    \n",
    "    '''\n",
    "\n",
    "    l0 = basis(Nlevels, 0)\n",
    "    l1 = basis(Nlevels, 1)\n",
    "    l2 = basis(Nlevels, 2)\n",
    "\n",
    "    oper_lambda1 = []\n",
    "    oper_lambda2 = []\n",
    "    for i in range(Nqubits):\n",
    "\n",
    "        if i == control:\n",
    "            o1 = l1*l2.dag() \n",
    "            o2 = l1*l2.dag() \n",
    "            oper_lambda1.append(o1)\n",
    "            oper_lambda2.append(o2)\n",
    "\n",
    "\n",
    "        elif i == target1:\n",
    "            o1 = l1*l0.dag() \n",
    "            o2 = l0*l0.dag() + l1*l1.dag()\n",
    "            oper_lambda1.append(o1)\n",
    "            oper_lambda2.append(o2)\n",
    "\n",
    "\n",
    "        elif i == target2:\n",
    "            o1 = l0*l0.dag() + l1*l1.dag()\n",
    "            o2 = l1*l0.dag()\n",
    "            oper_lambda1.append(o1)\n",
    "            oper_lambda2.append(o2)\n",
    "\n",
    "\n",
    "        else:\n",
    "            oper_lambda1.append((qeye(Nlevels)))\n",
    "            oper_lambda2.append((qeye(Nlevels)))\n",
    "\n",
    "\n",
    "    oper_lambda1 = tensor(oper_lambda1)\n",
    "    oper_lambda2 = tensor(oper_lambda2)\n",
    "    \n",
    "    return oper_lambda1, oper_lambda2\n",
    "\n"
   ]
  },
  {
   "cell_type": "code",
   "execution_count": 137,
   "id": "d9c91ace",
   "metadata": {},
   "outputs": [],
   "source": [
    "gate_time_CZS = 250*1e-9\n",
    "Om_CZS = pi/(sqrt(2)*gate_time_CZS)\n",
    "\n",
    "\n",
    "S0 = basis(3,0)\n",
    "S1 = basis(3,1)\n",
    "S2 = basis(3,2)\n",
    "\n",
    "S100 = tensor(S1, S0, S0)\n",
    "\n",
    "S110 = tensor(S1, S1, S0)\n",
    "S200 = tensor(S2, S0, S0)\n",
    "S101 = tensor(S1, S0, S1)\n",
    "\n",
    "S201 = tensor(S2, S0, S1)\n",
    "S111 = tensor(S1, S1, S1)\n",
    "S210 = tensor(S2, S1, S0)"
   ]
  },
  {
   "cell_type": "code",
   "execution_count": 138,
   "id": "978b3162",
   "metadata": {},
   "outputs": [],
   "source": [
    "X, Y= CZS(0,1,2)"
   ]
  },
  {
   "cell_type": "code",
   "execution_count": 139,
   "id": "cfc72697",
   "metadata": {},
   "outputs": [],
   "source": [
    "a1 = tensor(destroy(3), qeye(3), qeye(3))\n",
    "a2 = tensor(qeye(3), destroy(3), qeye(3))\n",
    "a3 = tensor(qeye(3), qeye(3), destroy(3))\n",
    "\n",
    "Ham = 0.5*Alpha*(a1.dag()*a1.dag()*a1*a1 + \\\n",
    "            a2.dag()*a2.dag()*a2*a2 + \\\n",
    "            a3.dag()*a3.dag()*a3*a3)"
   ]
  },
  {
   "cell_type": "code",
   "execution_count": 140,
   "id": "e0099d0f",
   "metadata": {},
   "outputs": [],
   "source": [
    "def al(t, args):\n",
    "    return np.exp(1j*Alpha*t)\n",
    "\n",
    "def ald(t, args):\n",
    "    return np.exp(-1j*Alpha*t)"
   ]
  },
  {
   "cell_type": "code",
   "execution_count": 141,
   "id": "4c8bce2d",
   "metadata": {},
   "outputs": [
    {
     "data": {
      "text/plain": [
       "(0.0, 1.0)"
      ]
     },
     "execution_count": 141,
     "metadata": {},
     "output_type": "execute_result"
    },
    {
     "data": {
      "image/png": "[encoded data removed]",
      "text/plain": [
       "<Figure size 432x288 with 1 Axes>"
      ]
     },
     "metadata": {
      "needs_background": "light"
     },
     "output_type": "display_data"
    }
   ],
   "source": [
    "Phi = np.exp(-1j*(pi/2))\n",
    "tlist = np.linspace(0,gate_time_CZS, 101)\n",
    "psi0 = (tensor(S1, S1, S0) + 0.25*tensor(S1,S1,S1) +  0.3*tensor(S1, S0, S1)).unit()\n",
    "e_ops = [S110*S110.dag(), S111*S111.dag(), S101*S101.dag(), S201*S201.dag(), S210*S210.dag(), \\\n",
    "         S200*S200.dag(), S100*S100.dag()]\n",
    "res = mesolve([Ham , \\\n",
    "               [1j*Om_CZS*(X), al], [1j*Om_CZS*(X.dag()), ald] , \\\n",
    "               [Om_CZS*(Y), al], [Om_CZS*(Y.dag()), ald]], \\\n",
    "               psi0, tlist, c_ops = [], e_ops = e_ops\\\n",
    "             ,options = Options(store_final_state = True))\n",
    "import matplotlib.pyplot as plt\n",
    "plt.plot(tlist, res.expect[0], ':', label = '|110>', linewidth = 4)\n",
    "plt.plot(tlist, res.expect[5], '--',label = '|200>')\n",
    "plt.plot(tlist, res.expect[2], label = '|101>')\n",
    "\n",
    "\n",
    "plt.grid('on')\n",
    "plt.legend(loc = 'upper center', fontsize = 10)\n",
    "plt.ylim([0,1])"
   ]
  },
  {
   "cell_type": "code",
   "execution_count": 142,
   "id": "248e3326",
   "metadata": {},
   "outputs": [
    {
     "data": {
      "image/png": "[encoded data removed]",
      "text/plain": [
       "<Figure size 432x288 with 1 Axes>"
      ]
     },
     "metadata": {
      "needs_background": "light"
     },
     "output_type": "display_data"
    }
   ],
   "source": [
    "plt.plot(tlist, res.expect[1], label = '|111>')\n",
    "plt.plot(tlist, res.expect[4], label = '|210>')\n",
    "plt.plot(tlist, res.expect[3],':' ,label = '|201>')\n",
    "plt.plot(tlist, res.expect[6],'-.' ,label = '|100>')\n",
    "plt.legend(loc = 'upper center', fontsize = 15)\n",
    "plt.grid('on')"
   ]
  },
  {
   "cell_type": "code",
   "execution_count": 143,
   "id": "8b600924",
   "metadata": {},
   "outputs": [
    {
     "name": "stdout",
     "output_type": "stream",
     "text": [
      "Population of |101>\n",
      "--------------------\n",
      "0.279 \t 0.0\n",
      "-0.088 \t -0.494\n"
     ]
    }
   ],
   "source": [
    "print(\"Population of |101>\")\n",
    "print(\"-\"*20)\n",
    "print(np.round(np.real(psi0.full()[10]),3)[0], \"\\t\", np.round(np.imag(psi0.full()[10]),3)[0])\n",
    "print(np.round(np.real(res.final_state.full()[10]),3)[0], \"\\t\", np.round(np.imag(res.final_state.full()[10]),3)[0])"
   ]
  },
  {
   "cell_type": "code",
   "execution_count": 134,
   "id": "9b12ce8d",
   "metadata": {},
   "outputs": [
    {
     "name": "stdout",
     "output_type": "stream",
     "text": [
      "Population of |110>\n",
      "--------------------\n",
      "0.931 \t 0.0\n",
      "0.695 \t -0.148\n"
     ]
    }
   ],
   "source": [
    "print(\"Population of |110>\")\n",
    "print(\"-\"*20)\n",
    "print(np.round(np.real(psi0.full()[12]),3)[0], \"\\t\", np.round(np.imag(psi0.full()[12]),3)[0])\n",
    "print(np.round(np.real(res.final_state.full()[12]),3)[0], \"\\t\", np.round(np.imag(res.final_state.full()[12]),3)[0])"
   ]
  },
  {
   "cell_type": "code",
   "execution_count": 135,
   "id": "f9551983",
   "metadata": {},
   "outputs": [
    {
     "name": "stdout",
     "output_type": "stream",
     "text": [
      "Population of |111>\n",
      "--------------------\n",
      "0.233 \t 0.0\n",
      "0.05 \t 0.0\n"
     ]
    }
   ],
   "source": [
    "print(\"Population of |111>\")\n",
    "print(\"-\"*20)\n",
    "print(np.round(np.real(psi0.full()[13]),3)[0],\"\\t\", np.round(np.imag(psi0.full()[13]),3)[0])\n",
    "print(np.round(np.real(res.final_state.full()[13]),3)[0],\"\\t\", np.round(np.imag(res.final_state.full()[13]),3)[0])"
   ]
  },
  {
   "cell_type": "code",
   "execution_count": 120,
   "id": "a52a4176",
   "metadata": {},
   "outputs": [
    {
     "name": "stdout",
     "output_type": "stream",
     "text": [
      "(0.9314928656652447+0j)\n",
      "(-0.2794448576488727-0.0002310156598944558j)\n"
     ]
    }
   ],
   "source": [
    "print(psi0.full()[12][0])\n",
    "print(res.final_state.full()[12][0])"
   ]
  },
  {
   "cell_type": "code",
   "execution_count": 25,
   "id": "7e6d3e33",
   "metadata": {},
   "outputs": [
    {
     "ename": "SyntaxError",
     "evalue": "leading zeros in decimal integer literals are not permitted; use an 0o prefix for octal integers (<ipython-input-25-a3bba1c482e9>, line 2)",
     "output_type": "error",
     "traceback": [
      "\u001b[1;36m  File \u001b[1;32m\"<ipython-input-25-a3bba1c482e9>\"\u001b[1;36m, line \u001b[1;32m2\u001b[0m\n\u001b[1;33m    001\u001b[0m\n\u001b[1;37m      ^\u001b[0m\n\u001b[1;31mSyntaxError\u001b[0m\u001b[1;31m:\u001b[0m leading zeros in decimal integer literals are not permitted; use an 0o prefix for octal integers\n"
     ]
    }
   ],
   "source": [
    "000\n",
    "001\n",
    "002\n",
    "010\n",
    "011\n",
    "012\n",
    "020\n",
    "021\n",
    "022\n",
    "\n",
    "\n",
    "9\n",
    "100\n",
    "101\n",
    "102\n",
    "110\n",
    "111\n",
    "112\n",
    "120\n",
    "121\n",
    "122\n",
    "\n",
    "\n",
    "200\n",
    "201\n",
    "202\n",
    "210\n",
    "211\n",
    "212\n",
    "220\n",
    "221\n",
    "222\n"
   ]
  },
  {
   "cell_type": "code",
   "execution_count": 24,
   "id": "0cfc2521",
   "metadata": {},
   "outputs": [
    {
     "data": {
      "text/plain": [
       "(<Figure size 576x432 with 2 Axes>, <AxesSubplot:>)"
      ]
     },
     "execution_count": 24,
     "metadata": {},
     "output_type": "execute_result"
    },
    {
     "data": {
      "image/png": "[encoded data removed]",
      "text/plain": [
       "<Figure size 576x432 with 2 Axes>"
      ]
     },
     "metadata": {
      "needs_background": "light"
     },
     "output_type": "display_data"
    }
   ],
   "source": [
    "hinton(psi0*psi0.dag())"
   ]
  },
  {
   "cell_type": "markdown",
   "id": "021f0142",
   "metadata": {},
   "source": [
    "# 4 qubits"
   ]
  },
  {
   "cell_type": "code",
   "execution_count": 4,
   "id": "9e00cf3e",
   "metadata": {},
   "outputs": [],
   "source": [
    "import numpy as np\n",
    "from qutip import*\n",
    "sqrt = np.sqrt\n",
    "pi   = np.pi\n",
    "Alpha = -2*pi*200e6\n",
    "gate_time_CZS = 250*1e-9\n",
    "Om_CZS = pi/(sqrt(2)*gate_time_CZS)\n",
    "\n",
    "def al(t, args):\n",
    "    return np.exp(1j*Alpha*t)\n",
    "\n",
    "def ald(t, args):\n",
    "    return np.exp(-1j*Alpha*t)\n",
    "\n",
    "\n",
    "Nqubits = 4\n",
    "Nlevels = 3\n",
    "\n",
    "\n",
    "S0 = basis(3,0)\n",
    "S1 = basis(3,1)\n",
    "S2 = basis(3,2)\n",
    "\n",
    "\n",
    "X, Y= CZS(1,0,3)\n",
    "# Control = 1\n",
    "# Target1 = 0\n",
    "# Target2 = 3\n",
    "\n",
    "S1110 = tensor(S1, S1, S1, S0)\n",
    "S0210 = tensor(S0, S2, S1, S0)\n",
    "S0111 = tensor(S0, S1, S1, S1)\n",
    "\n",
    "S0211 = tensor(S0, S2, S1, S1)\n",
    "S1111 = tensor(S1, S1, S1, S1)\n",
    "S1210 = tensor(S1, S2, S1, S0)\n",
    "\n",
    "S = tensor(S2, S2, S2, S2)\n",
    "\n",
    "a1 = tensor(destroy(3), qeye(3), qeye(3), qeye(3))\n",
    "a2 = tensor(qeye(3), destroy(3), qeye(3), qeye(3))\n",
    "a3 = tensor(qeye(3), qeye(3), destroy(3), qeye(3))\n",
    "a4 = tensor(qeye(3), qeye(3), qeye(3), destroy(3))\n",
    "\n",
    "Ham = 0.5*Alpha*(a1.dag()*a1.dag()*a1*a1 + \\\n",
    "            a2.dag()*a2.dag()*a2*a2 + \\\n",
    "            a3.dag()*a3.dag()*a3*a3 + a4.dag()*a4.dag()*a4*a4)\n",
    "\n",
    "\n",
    "\n",
    "\n",
    "tlist = np.linspace(0,gate_time_CZS, 101)\n",
    "psi0 = (0.7*tensor(S1, S1, S1, S0) + 0.5*tensor(S0, S1, S1, S1) + tensor(S1, S1, S1, S1)).unit()\n",
    "e_ops = [S1110*S1110.dag(), S0210*S0210.dag(), S0111*S0111.dag(), S0211*S0211.dag(), S1111*S1111.dag(), \\\n",
    "         S1210*S1210.dag(), S*S.dag()]\n",
    "\n",
    "Phi = np.exp(1j*(pi/2))\n"
   ]
  },
  {
   "cell_type": "code",
   "execution_count": 6,
   "id": "fc8eb20b",
   "metadata": {},
   "outputs": [],
   "source": [
    "res = mesolve([Ham , \\\n",
    "               [Phi*Om_CZS*(X), al], [np.conjugate(Phi)*Om_CZS*(X.dag()), ald] , \\\n",
    "               [Om_CZS*(Y), al], [Om_CZS*(Y.dag()), ald]], \\\n",
    "               psi0, tlist, c_ops = [], e_ops = e_ops\\\n",
    "             ,options = Options(store_final_state = True))"
   ]
  },
  {
   "cell_type": "code",
   "execution_count": 7,
   "id": "180da412",
   "metadata": {},
   "outputs": [
    {
     "data": {
      "text/plain": [
       "(0.0, 1.0)"
      ]
     },
     "execution_count": 7,
     "metadata": {},
     "output_type": "execute_result"
    },
    {
     "data": {
      "image/png": "[encoded data removed]",
      "text/plain": [
       "<Figure size 432x288 with 1 Axes>"
      ]
     },
     "metadata": {
      "needs_background": "light"
     },
     "output_type": "display_data"
    }
   ],
   "source": [
    "import matplotlib.pyplot as plt\n",
    "plt.plot(tlist, res.expect[0], ':', label = '|110>', linewidth = 4)\n",
    "plt.plot(tlist, res.expect[1], '--',label = '|200>')\n",
    "plt.plot(tlist, res.expect[2], label = '|101>')\n",
    "\n",
    "\n",
    "plt.grid('on')\n",
    "plt.legend(loc = 'upper center', fontsize = 10)\n",
    "plt.ylim([0,1])"
   ]
  },
  {
   "cell_type": "code",
   "execution_count": 8,
   "id": "72b44610",
   "metadata": {},
   "outputs": [
    {
     "data": {
      "image/png": "[encoded data removed]",
      "text/plain": [
       "<Figure size 432x288 with 1 Axes>"
      ]
     },
     "metadata": {
      "needs_background": "light"
     },
     "output_type": "display_data"
    }
   ],
   "source": [
    "plt.plot(tlist, res.expect[4], label = '|111>')\n",
    "plt.plot(tlist, res.expect[5], label = '|210>')\n",
    "plt.plot(tlist, res.expect[3],':' ,label = '|201>')\n",
    "plt.legend(loc = 'upper center', fontsize = 15)\n",
    "plt.grid('on')"
   ]
  },
  {
   "cell_type": "code",
   "execution_count": 9,
   "id": "b6f6dc4b",
   "metadata": {},
   "outputs": [
    {
     "data": {
      "text/latex": [
       "Quantum object: dims = [[3, 3, 3, 3], [1, 1, 1, 1]], shape = (81, 1), type = ket\\begin{equation*}\\left(\\begin{array}{*{11}c}0.0\\\\0.0\\\\0.0\\\\0.0\\\\0.0\\\\\\vdots\\\\0.0\\\\0.0\\\\0.0\\\\0.0\\\\0.0\\\\\\end{array}\\right)\\end{equation*}"
      ],
      "text/plain": [
       "Quantum object: dims = [[3, 3, 3, 3], [1, 1, 1, 1]], shape = (81, 1), type = ket\n",
       "Qobj data =\n",
       "[[ 0.00000000e+00+0.00000000e+00j]\n",
       " [ 0.00000000e+00+0.00000000e+00j]\n",
       " [ 0.00000000e+00+0.00000000e+00j]\n",
       " [ 0.00000000e+00+0.00000000e+00j]\n",
       " [ 0.00000000e+00+0.00000000e+00j]\n",
       " [ 0.00000000e+00+0.00000000e+00j]\n",
       " [ 0.00000000e+00+0.00000000e+00j]\n",
       " [ 0.00000000e+00+0.00000000e+00j]\n",
       " [ 0.00000000e+00+0.00000000e+00j]\n",
       " [ 0.00000000e+00+0.00000000e+00j]\n",
       " [ 0.00000000e+00+0.00000000e+00j]\n",
       " [ 0.00000000e+00+0.00000000e+00j]\n",
       " [ 0.00000000e+00+0.00000000e+00j]\n",
       " [-1.35377981e-04+5.30572311e-01j]\n",
       " [ 0.00000000e+00+0.00000000e+00j]\n",
       " [ 0.00000000e+00+0.00000000e+00j]\n",
       " [ 0.00000000e+00+0.00000000e+00j]\n",
       " [ 0.00000000e+00+0.00000000e+00j]\n",
       " [ 0.00000000e+00+0.00000000e+00j]\n",
       " [ 0.00000000e+00+0.00000000e+00j]\n",
       " [ 0.00000000e+00+0.00000000e+00j]\n",
       " [ 1.53359080e-05+8.33763795e-06j]\n",
       " [ 2.01404791e-05-2.47514515e-06j]\n",
       " [ 0.00000000e+00+0.00000000e+00j]\n",
       " [ 0.00000000e+00+0.00000000e+00j]\n",
       " [ 0.00000000e+00+0.00000000e+00j]\n",
       " [ 0.00000000e+00+0.00000000e+00j]\n",
       " [ 0.00000000e+00+0.00000000e+00j]\n",
       " [ 0.00000000e+00+0.00000000e+00j]\n",
       " [ 0.00000000e+00+0.00000000e+00j]\n",
       " [ 0.00000000e+00+0.00000000e+00j]\n",
       " [ 0.00000000e+00+0.00000000e+00j]\n",
       " [ 0.00000000e+00+0.00000000e+00j]\n",
       " [ 0.00000000e+00+0.00000000e+00j]\n",
       " [ 0.00000000e+00+0.00000000e+00j]\n",
       " [ 0.00000000e+00+0.00000000e+00j]\n",
       " [ 0.00000000e+00+0.00000000e+00j]\n",
       " [ 0.00000000e+00+0.00000000e+00j]\n",
       " [ 0.00000000e+00+0.00000000e+00j]\n",
       " [ 1.06943947e-04-3.79191989e-01j]\n",
       " [-7.58093838e-01-4.00639353e-04j]\n",
       " [ 0.00000000e+00+0.00000000e+00j]\n",
       " [ 0.00000000e+00+0.00000000e+00j]\n",
       " [ 0.00000000e+00+0.00000000e+00j]\n",
       " [ 0.00000000e+00+0.00000000e+00j]\n",
       " [ 0.00000000e+00+0.00000000e+00j]\n",
       " [ 0.00000000e+00+0.00000000e+00j]\n",
       " [ 0.00000000e+00+0.00000000e+00j]\n",
       " [ 2.47514515e-06+2.01404791e-05j]\n",
       " [ 0.00000000e+00+0.00000000e+00j]\n",
       " [ 0.00000000e+00+0.00000000e+00j]\n",
       " [ 0.00000000e+00+0.00000000e+00j]\n",
       " [ 0.00000000e+00+0.00000000e+00j]\n",
       " [ 0.00000000e+00+0.00000000e+00j]\n",
       " [ 0.00000000e+00+0.00000000e+00j]\n",
       " [ 0.00000000e+00+0.00000000e+00j]\n",
       " [ 0.00000000e+00+0.00000000e+00j]\n",
       " [ 0.00000000e+00+0.00000000e+00j]\n",
       " [ 0.00000000e+00+0.00000000e+00j]\n",
       " [ 0.00000000e+00+0.00000000e+00j]\n",
       " [ 0.00000000e+00+0.00000000e+00j]\n",
       " [ 0.00000000e+00+0.00000000e+00j]\n",
       " [ 0.00000000e+00+0.00000000e+00j]\n",
       " [ 0.00000000e+00+0.00000000e+00j]\n",
       " [ 0.00000000e+00+0.00000000e+00j]\n",
       " [ 0.00000000e+00+0.00000000e+00j]\n",
       " [ 0.00000000e+00+0.00000000e+00j]\n",
       " [ 0.00000000e+00+0.00000000e+00j]\n",
       " [ 0.00000000e+00+0.00000000e+00j]\n",
       " [ 0.00000000e+00+0.00000000e+00j]\n",
       " [ 0.00000000e+00+0.00000000e+00j]\n",
       " [ 0.00000000e+00+0.00000000e+00j]\n",
       " [ 0.00000000e+00+0.00000000e+00j]\n",
       " [ 0.00000000e+00+0.00000000e+00j]\n",
       " [ 0.00000000e+00+0.00000000e+00j]\n",
       " [ 0.00000000e+00+0.00000000e+00j]\n",
       " [ 0.00000000e+00+0.00000000e+00j]\n",
       " [ 0.00000000e+00+0.00000000e+00j]\n",
       " [ 0.00000000e+00+0.00000000e+00j]\n",
       " [ 0.00000000e+00+0.00000000e+00j]\n",
       " [ 0.00000000e+00+0.00000000e+00j]]"
      ]
     },
     "execution_count": 9,
     "metadata": {},
     "output_type": "execute_result"
    }
   ],
   "source": [
    "res.final_state"
   ]
  },
  {
   "cell_type": "code",
   "execution_count": null,
   "id": "b5736e2f",
   "metadata": {},
   "outputs": [],
   "source": []
  },
  {
   "cell_type": "code",
   "execution_count": null,
   "id": "0b21b9f6",
   "metadata": {},
   "outputs": [],
   "source": []
  },
  {
   "cell_type": "code",
   "execution_count": null,
   "id": "deda9269",
   "metadata": {},
   "outputs": [],
   "source": []
  },
  {
   "cell_type": "code",
   "execution_count": 1,
   "id": "0a36738f",
   "metadata": {},
   "outputs": [
    {
     "name": "stdout",
     "output_type": "stream",
     "text": [
      "The quantum gates which are modelled in this code and their notations-\n",
      "--------------------------------------------------------------------------------\n",
      "Pauli X \t\t PX\n",
      "Pauli Y \t\t PY\n",
      "Pauli Z \t\t PZ\n",
      "Hadamard \t\t HD\n",
      "\n",
      "\n",
      "Controlled Z \t\t CZ\n",
      "Controlled CZS \t\t CZS\n"
     ]
    }
   ],
   "source": [
    "import Chalmers_Simulator_mesolve as CS"
   ]
  },
  {
   "cell_type": "code",
   "execution_count": 70,
   "id": "c48ca736",
   "metadata": {},
   "outputs": [],
   "source": [
    "Nqubits = 2\n",
    "Nlevels = 3\n",
    "anihi_oper= []\n",
    "for i in range(Nqubits):\n",
    "    Operators= []\n",
    "    for j in range(Nqubits):\n",
    "        if i==j:\n",
    "            Operators.append(destroy(Nlevels))\n",
    "        else:\n",
    "            Operators.append(qeye(Nlevels))\n",
    "    anihi_oper.append(tensor(Operators))\n",
    "    \n",
    "Hamiltonian = Qobj(np.zeros(anihi_oper[0].shape), dims= anihi_oper[0].dims)\n",
    "    \n",
    "    \n",
    "    \n",
    "for i in range(Nqubits):\n",
    "    Hamiltonian= Hamiltonian + 0.5*Alpha*anihi_oper[i].dag()*anihi_oper[i].dag()*anihi_oper[i]*anihi_oper[i]"
   ]
  },
  {
   "cell_type": "code",
   "execution_count": 204,
   "id": "938a4d0d",
   "metadata": {},
   "outputs": [],
   "source": [
    "CZ_gt = 2.71e-7\n",
    "tlist = np.linspace(0, CZ_gt, 1000)\n",
    "CZ_expo = np.exp(1j*Alpha*tlist)\n",
    "\n",
    "\n",
    "Expo = Pulse_strength*CZ_expo\n",
    "ExpoC = Pulse_strength*np.conjugate(CZ_expo)\n",
    "opera = CZ(0,1)\n",
    "FHam = (QobjEvo([[opera, Expo], [opera.dag(), ExpoC]], tlist = tlist))"
   ]
  },
  {
   "cell_type": "code",
   "execution_count": 206,
   "id": "bea6b5af",
   "metadata": {},
   "outputs": [],
   "source": [
    "op11 = tensor(basis(3,1), basis(3,1))\n",
    "op20 = tensor(basis(3,2), basis(3,0))\n",
    "op22 = tensor(basis(3,2), basis(3,2))\n",
    "op21 = tensor(basis(3,2), basis(3,1))\n",
    "op10 = tensor(basis(3,1), basis(3,0))\n",
    "\n",
    "\n",
    "e_ops = [op11*op11.dag(), op20*op20.dag(), op22*op22.dag(), op21*op21.dag(), op10*op10.dag()]\n",
    "\n",
    "psi0 = tensor(basis(3,1), basis(3,1))\n",
    "res = mesolve(Hamiltonian + FHam, psi0, tlist, c_ops=[], e_ops = e_ops, options= Options(store_final_state=True))"
   ]
  },
  {
   "cell_type": "code",
   "execution_count": 207,
   "id": "3dead0ae",
   "metadata": {},
   "outputs": [
    {
     "data": {
      "image/png": "[encoded data removed]",
      "text/plain": [
       "<Figure size 432x288 with 1 Axes>"
      ]
     },
     "metadata": {
      "needs_background": "light"
     },
     "output_type": "display_data"
    }
   ],
   "source": [
    "plt.plot(tlist, res.expect[0], label='11')\n",
    "plt.plot(tlist, res.expect[1], label='20')\n",
    "plt.plot(tlist, res.expect[2], label='22')\n",
    "plt.plot(tlist, res.expect[3], label='21')\n",
    "plt.plot(tlist, res.expect[4], label='10')\n",
    "\n",
    "plt.legend()\n",
    "plt.grid('on')"
   ]
  },
  {
   "cell_type": "code",
   "execution_count": 203,
   "id": "e914bca4",
   "metadata": {},
   "outputs": [
    {
     "data": {
      "text/latex": [
       "Quantum object: dims = [[3, 3], [1, 1]], shape = (9, 1), type = ket\\begin{equation*}\\left(\\begin{array}{*{11}c}0.0\\\\0.0\\\\0.0\\\\0.0\\\\0.0\\\\0.0\\\\0.0\\\\(0.309+0.951j)\\\\0.0\\\\\\end{array}\\right)\\end{equation*}"
      ],
      "text/plain": [
       "Quantum object: dims = [[3, 3], [1, 1]], shape = (9, 1), type = ket\n",
       "Qobj data =\n",
       "[[0.        +0.j        ]\n",
       " [0.        +0.j        ]\n",
       " [0.        +0.j        ]\n",
       " [0.        +0.j        ]\n",
       " [0.        +0.j        ]\n",
       " [0.        +0.j        ]\n",
       " [0.        +0.j        ]\n",
       " [0.30942721+0.95092313j]\n",
       " [0.        +0.j        ]]"
      ]
     },
     "execution_count": 203,
     "metadata": {},
     "output_type": "execute_result"
    }
   ],
   "source": [
    "res.final_state"
   ]
  },
  {
   "cell_type": "code",
   "execution_count": 189,
   "id": "3651c2ad",
   "metadata": {},
   "outputs": [
    {
     "data": {
      "text/latex": [
       "Quantum object: dims = [[3, 3], [1, 1]], shape = (9, 1), type = ket\\begin{equation*}\\left(\\begin{array}{*{11}c}0.0\\\\0.0\\\\0.0\\\\0.0\\\\0.0\\\\0.0\\\\0.0\\\\0.0\\\\1.0\\\\\\end{array}\\right)\\end{equation*}"
      ],
      "text/plain": [
       "Quantum object: dims = [[3, 3], [1, 1]], shape = (9, 1), type = ket\n",
       "Qobj data =\n",
       "[[0.]\n",
       " [0.]\n",
       " [0.]\n",
       " [0.]\n",
       " [0.]\n",
       " [0.]\n",
       " [0.]\n",
       " [0.]\n",
       " [1.]]"
      ]
     },
     "execution_count": 189,
     "metadata": {},
     "output_type": "execute_result"
    }
   ],
   "source": [
    "psi0"
   ]
  },
  {
   "cell_type": "code",
   "execution_count": null,
   "id": "f9cae371",
   "metadata": {},
   "outputs": [],
   "source": []
  },
  {
   "cell_type": "code",
   "execution_count": null,
   "id": "3c387b07",
   "metadata": {},
   "outputs": [],
   "source": []
  },
  {
   "cell_type": "code",
   "execution_count": null,
   "id": "dca1d62b",
   "metadata": {},
   "outputs": [],
   "source": []
  },
  {
   "cell_type": "code",
   "execution_count": null,
   "id": "c2fca624",
   "metadata": {},
   "outputs": [],
   "source": []
  },
  {
   "cell_type": "code",
   "execution_count": null,
   "id": "23da8c95",
   "metadata": {},
   "outputs": [],
   "source": []
  },
  {
   "cell_type": "code",
   "execution_count": 401,
   "id": "59a21c74",
   "metadata": {},
   "outputs": [],
   "source": [
    "a= tensor(destroy(5), qeye(2))\n",
    "sx = tensor(qeye(5), sigmax())\n",
    "\n",
    "def jump(t, args):\n",
    "    return 2*t\n",
    "\n",
    "c_ops= []\n",
    "c_ops.append([jump, a])"
   ]
  },
  {
   "cell_type": "code",
   "execution_count": 402,
   "id": "84df2310",
   "metadata": {},
   "outputs": [
    {
     "data": {
      "text/plain": [
       "[[<function __main__.jump(t, args)>,\n",
       "  Quantum object: dims = [[5, 2], [5, 2]], shape = (10, 10), type = oper, isherm = False\n",
       "  Qobj data =\n",
       "  [[0.         0.         1.         0.         0.         0.\n",
       "    0.         0.         0.         0.        ]\n",
       "   [0.         0.         0.         1.         0.         0.\n",
       "    0.         0.         0.         0.        ]\n",
       "   [0.         0.         0.         0.         1.41421356 0.\n",
       "    0.         0.         0.         0.        ]\n",
       "   [0.         0.         0.         0.         0.         1.41421356\n",
       "    0.         0.         0.         0.        ]\n",
       "   [0.         0.         0.         0.         0.         0.\n",
       "    1.73205081 0.         0.         0.        ]\n",
       "   [0.         0.         0.         0.         0.         0.\n",
       "    0.         1.73205081 0.         0.        ]\n",
       "   [0.         0.         0.         0.         0.         0.\n",
       "    0.         0.         2.         0.        ]\n",
       "   [0.         0.         0.         0.         0.         0.\n",
       "    0.         0.         0.         2.        ]\n",
       "   [0.         0.         0.         0.         0.         0.\n",
       "    0.         0.         0.         0.        ]\n",
       "   [0.         0.         0.         0.         0.         0.\n",
       "    0.         0.         0.         0.        ]]]]"
      ]
     },
     "execution_count": 402,
     "metadata": {},
     "output_type": "execute_result"
    }
   ],
   "source": [
    "c_ops"
   ]
  },
  {
   "cell_type": "code",
   "execution_count": null,
   "id": "8502f57a",
   "metadata": {},
   "outputs": [],
   "source": [
    "XX= tensor(destroy(5), sqrt(gamma)*sigmax*())"
   ]
  }
 ],
 "metadata": {
  "kernelspec": {
   "display_name": "Python 3",
   "language": "python",
   "name": "python3"
  },
  "language_info": {
   "codemirror_mode": {
    "name": "ipython",
    "version": 3
   },
   "file_extension": ".py",
   "mimetype": "text/x-python",
   "name": "python",
   "nbconvert_exporter": "python",
   "pygments_lexer": "ipython3",
   "version": "3.8.8"
  }
 },
 "nbformat": 4,
 "nbformat_minor": 5
}
