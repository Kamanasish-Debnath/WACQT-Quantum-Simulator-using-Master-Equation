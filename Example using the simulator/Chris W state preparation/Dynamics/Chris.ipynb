{
 "cells": [
  {
   "cell_type": "code",
   "execution_count": 1,
   "id": "257d9508",
   "metadata": {},
   "outputs": [
    {
     "name": "stdout",
     "output_type": "stream",
     "text": [
      "The quantum gates which are modelled in this code and their notations-\n",
      "--------------------------------------------------------------------------------\n",
      "Pauli X \t\t PX\n",
      "Pauli Y \t\t PY\n",
      "Pauli Z \t\t PZ\n",
      "Hadamard \t\t HD\n",
      "PI12 \t\t\t 1->2 transition\n",
      "\n",
      "\n",
      "Controlled Z \t\t CZ \t\t Format:Tar_Con=[[control, target]]\n",
      "Controlled CZS \t\t CCZS \t\t Format:Tar_Con=[[control, target1, target2, phi]]\n",
      "Sqrt Controlled CZS \t SCCZS \t\t Format:Tar_Con=[[control, target1, target2, phi]]\n"
     ]
    }
   ],
   "source": [
    "import numpy as np\n",
    "from qutip import*\n",
    "import time\n",
    "import matplotlib.pyplot as plt\n",
    "import itertools as it\n",
    "sqrt = np.sqrt\n",
    "pi   = np.pi\n",
    "class Add_gate:\n",
    "    def __init__(gate, name, Tar_Con, angle):\n",
    "        gate.name    = name\n",
    "        gate.Tar_Con = Tar_Con\n",
    "        gate.angle   = angle\n",
    "        \n",
    "def project_to_qubit(rho):\n",
    "    N = int(len(rho.dims[0]))\n",
    "    projector = Qobj(np.array([[1, 0, 0],[0, 1, 0]]))\n",
    "    tot_proj = tensor([projector]*N)\n",
    "    rho_proj = tot_proj*rho*tot_proj.dag()\n",
    "    return rho_proj.unit()\n",
    "        \n",
    "Nqubits= 1\n",
    "Nlevels= 3\n",
    "Paulis_gt = 2.00e-8\n",
    "CZ_gt = 2.83e-7\n",
    "gate_time_CCZS = CZ_gt/(sqrt(2))\n",
    "Diss = [27.35e-6]\n",
    "Alpha = -2*pi*210e6\n",
    "ZZ_list = []\n",
    "ZZ_strength = []\n",
    "\n",
    "\n",
    "T1s = [27.35e-6]\n",
    "T2s = [45.21e-6]\n",
    "\n",
    "Deph = []\n",
    "for i in range(1):\n",
    "    _1byT2 = 1/T2s[i]\n",
    "    _1byT1 = 1/(2*T1s[i])\n",
    "    Deph.append(1/(_1byT2 - _1byT1))\n",
    "    \n",
    "import Chalmers_Simulator_mesolve as CS"
   ]
  },
  {
   "cell_type": "code",
   "execution_count": null,
   "id": "031ced4a",
   "metadata": {},
   "outputs": [],
   "source": []
  },
  {
   "cell_type": "code",
   "execution_count": 2,
   "id": "93864232",
   "metadata": {},
   "outputs": [
    {
     "data": {
      "text/plain": [
       "<matplotlib.legend.Legend at 0x23be1597550>"
      ]
     },
     "execution_count": 2,
     "metadata": {},
     "output_type": "execute_result"
    },
    {
     "data": {
      "image/png": "[encoded data removed]",
      "text/plain": [
       "<Figure size 432x288 with 1 Axes>"
      ]
     },
     "metadata": {
      "needs_background": "light"
     },
     "output_type": "display_data"
    }
   ],
   "source": [
    "Hamiltonian, c_ops = CS.create_system_Hamiltonian(Nqubits, Nlevels, Paulis_gt, CZ_gt, gate_time_CCZS, Alpha, Diss, \\\n",
    "                                                  Deph, Texc = [], ZZ_list=[], ZZ_strength=[])\n",
    "\n",
    "Ini = tensor(basis(3,0))\n",
    "gate=[]\n",
    "gate.append(Add_gate(name=[\"PX\"    ], Tar_Con=[0],         angle=[2*np.arccos(1/sqrt(3))]        ))\n",
    "\n",
    "\n",
    "\n",
    "fstate1, states = CS.Execute(Hamiltonian, [], gate, Ini)\n",
    "O000 = tensor(basis(3,0))\n",
    "O100 = tensor(basis(3,1))\n",
    "O200 = tensor(basis(3,2))\n",
    "\n",
    "plt.plot(expect(O000*O000.dag(), states), label = '|0>')\n",
    "plt.plot(expect(O100*O100.dag(), states), label = '|1>')\n",
    "plt.plot(expect(O200*O200.dag(), states), label = '|2>')\n",
    "plt.hlines(0.33, 0,5000, linestyle = ':')\n",
    "\n",
    "plt.grid('on')\n",
    "plt.legend()"
   ]
  },
  {
   "cell_type": "markdown",
   "id": "be88e927",
   "metadata": {},
   "source": [
    "## Fidelity of Pauli Y [2cos$^{-1}$(1/$\\sqrt{3}$] gate)"
   ]
  },
  {
   "cell_type": "code",
   "execution_count": 3,
   "id": "8f79efec",
   "metadata": {},
   "outputs": [
    {
     "data": {
      "text/plain": [
       "0.9999987235432445"
      ]
     },
     "execution_count": 3,
     "metadata": {},
     "output_type": "execute_result"
    }
   ],
   "source": [
    "from qutip.qip.circuit import QubitCircuit\n",
    "qc = QubitCircuit(N=1)\n",
    "qc.add_gate(\"RX\", targets=0, arg_value = (2*np.arccos(1/sqrt(3))))\n",
    "Z = qc.propagators()[0]\n",
    "psi = Z*tensor(basis(2,0))\n",
    "\n",
    "fidelity(ket2dm(psi), project_to_qubit(ket2dm(fstate1)))"
   ]
  },
  {
   "cell_type": "code",
   "execution_count": null,
   "id": "2efded37",
   "metadata": {},
   "outputs": [],
   "source": []
  },
  {
   "cell_type": "markdown",
   "id": "e88c03b6",
   "metadata": {},
   "source": [
    "## Fidelity of PI12 gate"
   ]
  },
  {
   "cell_type": "code",
   "execution_count": 6,
   "id": "980a4620",
   "metadata": {},
   "outputs": [
    {
     "data": {
      "text/plain": [
       "0.9999999922781592"
      ]
     },
     "execution_count": 6,
     "metadata": {},
     "output_type": "execute_result"
    }
   ],
   "source": [
    "# Fidelity of PI12 gate\n",
    "Ini = tensor(basis(3,1))\n",
    "gate=[]\n",
    "gate.append(Add_gate(name=[\"PI12\"    ], Tar_Con=[0],         angle=[pi]        ))\n",
    "\n",
    "Exstate, _ = CS.Execute(Hamiltonian, [], gate, Ini)\n",
    "fidelity(Exstate, basis(3,2))"
   ]
  },
  {
   "cell_type": "code",
   "execution_count": null,
   "id": "b1bb080f",
   "metadata": {},
   "outputs": [],
   "source": []
  },
  {
   "cell_type": "code",
   "execution_count": null,
   "id": "1a4b48a6",
   "metadata": {},
   "outputs": [],
   "source": []
  },
  {
   "cell_type": "code",
   "execution_count": null,
   "id": "480de85e",
   "metadata": {},
   "outputs": [],
   "source": []
  },
  {
   "cell_type": "markdown",
   "id": "990970b7",
   "metadata": {},
   "source": [
    "## Dynamics during the algorithm"
   ]
  },
  {
   "cell_type": "code",
   "execution_count": 1,
   "id": "2d1e7ddc",
   "metadata": {},
   "outputs": [
    {
     "name": "stdout",
     "output_type": "stream",
     "text": [
      "The quantum gates which are modelled in this code and their notations-\n",
      "--------------------------------------------------------------------------------\n",
      "Pauli X \t\t PX\n",
      "Pauli Y \t\t PY\n",
      "Pauli Z \t\t PZ\n",
      "Hadamard \t\t HD\n",
      "PI12 \t\t\t 1->2 transition\n",
      "\n",
      "\n",
      "Controlled Z \t\t CZ \t\t Format:Tar_Con=[[control, target]]\n",
      "Controlled CZS \t\t CCZS \t\t Format:Tar_Con=[[control, target1, target2, phi]]\n",
      "Sqrt Controlled CZS \t SCCZS \t\t Format:Tar_Con=[[control, target1, target2, phi]]\n"
     ]
    }
   ],
   "source": [
    "import numpy as np\n",
    "from qutip import*\n",
    "import time\n",
    "import matplotlib.pyplot as plt\n",
    "import itertools as it\n",
    "sqrt = np.sqrt\n",
    "pi   = np.pi\n",
    "class Add_gate:\n",
    "    def __init__(gate, name, Tar_Con, angle):\n",
    "        gate.name    = name\n",
    "        gate.Tar_Con = Tar_Con\n",
    "        gate.angle   = angle\n",
    "                \n",
    "Diss = [27.35e-6, 27.35e-6, 27.35e-6]\n",
    "Alpha = -2*pi*210e6\n",
    "ZZ_list = [[0,1]]\n",
    "ZZ_strength = [0]\n",
    "\n",
    "def project_to_qubit(rho):\n",
    "    N = int(len(rho.dims[0]))\n",
    "    projector = Qobj(np.array([[1, 0, 0],[0, 1, 0]]))\n",
    "    tot_proj = tensor([projector]*N)\n",
    "    rho_proj = tot_proj*rho*tot_proj.dag()\n",
    "    return rho_proj.unit()\n",
    "\n",
    "\n",
    "Nqubits= 3\n",
    "Nlevels= 3\n",
    "Paulis_gt = 2.00e-8\n",
    "CZ_gt = 2.83e-7\n",
    "gate_time_CCZS = CZ_gt/(sqrt(2))\n",
    "Diss = [27.35e-6, 27.35e-6, 27.35e-6]\n",
    "Alpha = -2*pi*210e6\n",
    "ZZ_list = []\n",
    "ZZ_strength = []\n",
    "\n",
    "T1s = [27.35e-6, 39.73e-6, 34.73e-6]\n",
    "T2s = [45.21e-6, 57.67e-6, 21.49e-6]\n",
    "\n",
    "Deph = []\n",
    "for i in range(3):\n",
    "    _1byT2 = 1/T2s[i]\n",
    "    _1byT1 = 1/(2*T1s[i])\n",
    "    Deph.append(1/(_1byT2 - _1byT1))\n",
    "    \n",
    "    \n",
    "# Import the developed package\n",
    "import Chalmers_Simulator_mesolve as CS"
   ]
  },
  {
   "cell_type": "code",
   "execution_count": 2,
   "id": "2c4c78b2",
   "metadata": {},
   "outputs": [
    {
     "name": "stdout",
     "output_type": "stream",
     "text": [
      "Fidelity of this gate is 0.9999987256506686\n"
     ]
    },
    {
     "data": {
      "image/png": "[encoded data removed]",
      "text/plain": [
       "<Figure size 432x288 with 1 Axes>"
      ]
     },
     "metadata": {
      "needs_background": "light"
     },
     "output_type": "display_data"
    }
   ],
   "source": [
    "# Create Hamiltonian and collapse operators\n",
    "# (1.221*(pi/2))\n",
    "Hamiltonian, c_ops = CS.create_system_Hamiltonian(Nqubits, Nlevels, Paulis_gt, CZ_gt, gate_time_CCZS, Alpha, Diss, \\\n",
    "                                                  Deph, Texc = [], ZZ_list=[], ZZ_strength=[])\n",
    "\n",
    "\n",
    "Ini = tensor(basis(3,0), basis(3,0), basis(3,0))\n",
    "\n",
    "gate=[]\n",
    "gate.append(Add_gate(name=[\"PY\"    ], Tar_Con=[0],         angle=[2*np.arccos(1/sqrt(3))]        ))\n",
    "\n",
    "fstate1, states = CS.Execute(Hamiltonian, [], gate, Ini)\n",
    "O000 = tensor(basis(3,0), basis(3,0), basis(3,0))\n",
    "O100 = tensor(basis(3,1), basis(3,0), basis(3,0))\n",
    "O200 = tensor(basis(3,2), basis(3,0), basis(3,0))\n",
    "\n",
    "plt.plot(expect(O000*O000.dag(), states), label = '|000>')\n",
    "plt.plot(expect(O100*O100.dag(), states), label = '|100>')\n",
    "plt.plot(expect(O200*O200.dag(), states), label = '|200>')\n",
    "\n",
    "plt.hlines(0.33, 0,5000, linestyle = ':')\n",
    "plt.grid('on')\n",
    "plt.legend()\n",
    "\n",
    "\n",
    "from qutip.qip.circuit import QubitCircuit\n",
    "qc = QubitCircuit(N=3)\n",
    "qc.add_gate(\"RY\", targets=0, arg_value = (2*np.arccos(1/sqrt(3))))\n",
    "Z = qc.propagators()[0]\n",
    "\n",
    "psi = Z*tensor(basis(2,0), basis(2,0), basis(2,0))\n",
    "\n",
    "print(\"Fidelity of this gate is\" , fidelity(psi*psi.dag(), project_to_qubit(fstate1*fstate1.dag())))"
   ]
  },
  {
   "cell_type": "code",
   "execution_count": null,
   "id": "33cb4026",
   "metadata": {},
   "outputs": [],
   "source": []
  },
  {
   "cell_type": "code",
   "execution_count": 3,
   "id": "fa3c9b12",
   "metadata": {},
   "outputs": [
    {
     "data": {
      "text/plain": [
       "<matplotlib.legend.Legend at 0x23708873c40>"
      ]
     },
     "execution_count": 3,
     "metadata": {},
     "output_type": "execute_result"
    },
    {
     "data": {
      "image/png": "[encoded data removed]",
      "text/plain": [
       "<Figure size 432x288 with 1 Axes>"
      ]
     },
     "metadata": {
      "needs_background": "light"
     },
     "output_type": "display_data"
    }
   ],
   "source": [
    "gate=[]\n",
    "gate.append(Add_gate(name=[\"PI12\"    ], Tar_Con=[[0]],       angle=[pi]                           ))\n",
    "\n",
    "fstate2, states = CS.Execute(Hamiltonian, [], gate, fstate1)\n",
    "O200 = tensor(basis(3,2), basis(3,0), basis(3,0))\n",
    "plt.plot(expect(O100*O100.dag(), states), label = '|100>')\n",
    "plt.plot(expect(O200*O200.dag(), states), label = '|200>')\n",
    "plt.plot(expect(O000*O000.dag(), states), label = '|000>')\n",
    "\n",
    "plt.grid('on')\n",
    "plt.legend()"
   ]
  },
  {
   "cell_type": "code",
   "execution_count": null,
   "id": "6eac57ef",
   "metadata": {},
   "outputs": [],
   "source": []
  },
  {
   "cell_type": "code",
   "execution_count": null,
   "id": "9a94ca91",
   "metadata": {},
   "outputs": [],
   "source": []
  },
  {
   "cell_type": "code",
   "execution_count": 4,
   "id": "7f5f8fa2",
   "metadata": {},
   "outputs": [
    {
     "data": {
      "text/plain": [
       "<matplotlib.legend.Legend at 0x23704d48b20>"
      ]
     },
     "execution_count": 4,
     "metadata": {},
     "output_type": "execute_result"
    },
    {
     "data": {
      "image/png": "[encoded data removed]",
      "text/plain": [
       "<Figure size 432x288 with 1 Axes>"
      ]
     },
     "metadata": {
      "needs_background": "light"
     },
     "output_type": "display_data"
    }
   ],
   "source": [
    "gate=[]\n",
    "gate.append(Add_gate(name=[\"SCCZS\"    ], Tar_Con=[[0,1,2,0]], angle=[0]                          ))\n",
    "\n",
    "fstate3, states = CS.Execute(Hamiltonian, [], gate, fstate2)\n",
    "O200 = tensor(basis(3,2), basis(3,0), basis(3,0))\n",
    "O110 = tensor(basis(3,1), basis(3,1), basis(3,0))\n",
    "O101 = tensor(basis(3,1), basis(3,0), basis(3,1))\n",
    "\n",
    "plt.plot(expect(O101*O101.dag(), states), label = '|101>')\n",
    "plt.plot(expect(O110*O110.dag(), states), label = '|110>', linestyle = ':')\n",
    "plt.plot(expect(O200*O200.dag(), states), label = '|200>')\n",
    "plt.grid('on')\n",
    "plt.legend()"
   ]
  },
  {
   "cell_type": "code",
   "execution_count": null,
   "id": "5e35246a",
   "metadata": {},
   "outputs": [],
   "source": []
  },
  {
   "cell_type": "code",
   "execution_count": null,
   "id": "ebee79de",
   "metadata": {},
   "outputs": [],
   "source": []
  },
  {
   "cell_type": "code",
   "execution_count": 5,
   "id": "3de1e00e",
   "metadata": {},
   "outputs": [
    {
     "data": {
      "text/plain": [
       "<matplotlib.legend.Legend at 0x2370ab6d8e0>"
      ]
     },
     "execution_count": 5,
     "metadata": {},
     "output_type": "execute_result"
    },
    {
     "data": {
      "image/png": "[encoded data removed]",
      "text/plain": [
       "<Figure size 432x288 with 1 Axes>"
      ]
     },
     "metadata": {
      "needs_background": "light"
     },
     "output_type": "display_data"
    }
   ],
   "source": [
    "gate=[]\n",
    "gate.append(Add_gate(name=[\"PX\"    ], Tar_Con=[[0]],         angle=[pi]        ))\n",
    "\n",
    "fstate4, states = CS.Execute(Hamiltonian, [], gate, fstate3)\n",
    "O100 = tensor(basis(3,1), basis(3,0), basis(3,0))\n",
    "O010 = tensor(basis(3,0), basis(3,1), basis(3,0))\n",
    "O001 = tensor(basis(3,0), basis(3,0), basis(3,1))\n",
    "plt.plot(expect(O100*O100.dag(), states), label = '|100>')\n",
    "plt.plot(expect(O010*O010.dag(), states), label = '|010>', linestyle = ':')\n",
    "plt.plot(expect(O001*O001.dag(), states), label = '|001>')\n",
    "plt.hlines(0.33, 0, 5000, 'b', linewidth = 0.3)\n",
    "plt.hlines(0.67, 0, 5000, 'b', linewidth = 0.3)\n",
    "\n",
    "plt.grid('on')\n",
    "plt.legend()"
   ]
  },
  {
   "cell_type": "code",
   "execution_count": 16,
   "id": "79cac9a9",
   "metadata": {},
   "outputs": [
    {
     "data": {
      "text/latex": [
       "Quantum object: dims = [[8], [1]], shape = (8, 1), type = ket\\begin{equation*}\\left(\\begin{array}{*{11}c}2.879\\times10^{-05}\\\\0.333\\\\0.333\\\\0.0\\\\0.335\\\\1.650\\times10^{-05}\\\\1.650\\times10^{-05}\\\\0.0\\\\\\end{array}\\right)\\end{equation*}"
      ],
      "text/plain": [
       "Quantum object: dims = [[8], [1]], shape = (8, 1), type = ket\n",
       "Qobj data =\n",
       "[[2.87886499e-05]\n",
       " [3.32562503e-01]\n",
       " [3.32562503e-01]\n",
       " [0.00000000e+00]\n",
       " [3.34813196e-01]\n",
       " [1.64980577e-05]\n",
       " [1.64980577e-05]\n",
       " [0.00000000e+00]]"
      ]
     },
     "execution_count": 16,
     "metadata": {},
     "output_type": "execute_result"
    }
   ],
   "source": [
    "Qobj(project_to_qubit(ket2dm(fstate4)).diag())"
   ]
  },
  {
   "cell_type": "code",
   "execution_count": 12,
   "id": "09b64d73",
   "metadata": {},
   "outputs": [
    {
     "data": {
      "text/plain": [
       "(<Figure size 576x432 with 2 Axes>, <AxesSubplot:>)"
      ]
     },
     "execution_count": 12,
     "metadata": {},
     "output_type": "execute_result"
    },
    {
     "data": {
      "image/png": "[encoded data removed]",
      "text/plain": [
       "<Figure size 576x432 with 2 Axes>"
      ]
     },
     "metadata": {
      "needs_background": "light"
     },
     "output_type": "display_data"
    }
   ],
   "source": [
    "hinton(project_to_qubit(fstate4*fstate4.dag()))"
   ]
  },
  {
   "cell_type": "code",
   "execution_count": 13,
   "id": "44f9f018",
   "metadata": {},
   "outputs": [
    {
     "data": {
      "text/plain": [
       "(<Figure size 576x432 with 2 Axes>, <AxesSubplot:>)"
      ]
     },
     "execution_count": 13,
     "metadata": {},
     "output_type": "execute_result"
    },
    {
     "data": {
      "image/png": "[encoded data removed]",
      "text/plain": [
       "<Figure size 576x432 with 2 Axes>"
      ]
     },
     "metadata": {
      "needs_background": "light"
     },
     "output_type": "display_data"
    }
   ],
   "source": [
    "W001 = tensor(basis(2,0), basis(2,0), basis(2,1))\n",
    "W010 = tensor(basis(2,0), basis(2,1), basis(2,0))\n",
    "W100 = tensor(basis(2,1), basis(2,0), basis(2,0))\n",
    "Wstate = (W001 + W010 + W100).unit()\n",
    "hinton(Wstate*Wstate.dag())"
   ]
  },
  {
   "cell_type": "code",
   "execution_count": null,
   "id": "4c54d8ad",
   "metadata": {},
   "outputs": [],
   "source": []
  }
 ],
 "metadata": {
  "kernelspec": {
   "display_name": "Python 3",
   "language": "python",
   "name": "python3"
  },
  "language_info": {
   "codemirror_mode": {
    "name": "ipython",
    "version": 3
   },
   "file_extension": ".py",
   "mimetype": "text/x-python",
   "name": "python",
   "nbconvert_exporter": "python",
   "pygments_lexer": "ipython3",
   "version": "3.8.8"
  }
 },
 "nbformat": 4,
 "nbformat_minor": 5
}
