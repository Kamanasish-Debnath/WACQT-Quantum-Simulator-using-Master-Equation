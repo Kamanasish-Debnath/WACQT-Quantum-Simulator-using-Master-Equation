{
 "cells": [
  {
   "cell_type": "code",
   "execution_count": 1,
   "id": "c9a6bf4f",
   "metadata": {},
   "outputs": [],
   "source": [
    "import numpy as np\n",
    "from qutip import*\n",
    "sqrt = np.sqrt\n",
    "pi   = np.pi"
   ]
  },
  {
   "cell_type": "code",
   "execution_count": 2,
   "id": "a908e943",
   "metadata": {},
   "outputs": [],
   "source": [
    "A = destroy(3)\n",
    "Alpha = -2*pi*200e6"
   ]
  },
  {
   "cell_type": "code",
   "execution_count": 3,
   "id": "7ad75f20",
   "metadata": {},
   "outputs": [],
   "source": [
    "Nlevels = 3\n",
    "Nqubits = 3\n",
    "def CZS(control, target1, target2):\n",
    "    \n",
    "    '''\n",
    "    This function returns the two operators for three qubit gate Controlled CZs \n",
    "    on which the drives lambda_1 and lambda_2 can be applied with an exponential \n",
    "    factor to account for the nonlinearity of the third energy level. \n",
    "    Refer PRX QUANTUM 2, 040348 (2021).\n",
    "    \n",
    "    Arguments-\n",
    "    control        :      control qubit (q0 in the main article)\n",
    "    target1        :      first target qubit (q1 in the main article)\n",
    "    target2        :      second target qubit (q2 in the main article)\n",
    "    \n",
    "    Returns-\n",
    "    oper_lambda1   :      |110><200| equivalent of the main article \n",
    "                          in the total Hilbert space.\n",
    "                          \n",
    "    oper_lambda2   :      |101><200| equivalent of the main article\n",
    "                          in the total Hilbert space.\n",
    "    \n",
    "    \n",
    "    '''\n",
    "\n",
    "    l0 = basis(Nlevels, 0)\n",
    "    l1 = basis(Nlevels, 1)\n",
    "    l2 = basis(Nlevels, 2)\n",
    "\n",
    "    oper_lambda1 = []\n",
    "    oper_lambda2 = []\n",
    "    for i in range(Nqubits):\n",
    "\n",
    "        if i == control:    \n",
    "            o1 = l1*l2.dag()\n",
    "            o2 = l1*l2.dag()\n",
    "            oper_lambda1.append(o1)\n",
    "            oper_lambda2.append(o2)\n",
    "\n",
    "\n",
    "\n",
    "        elif i == target1:\n",
    "            o1 = l1*l0.dag()\n",
    "            o2 = l0*l0.dag() + l1*l1.dag()\n",
    "            oper_lambda1.append(o1)\n",
    "            oper_lambda2.append(o2)\n",
    "\n",
    "\n",
    "        elif i == target2:\n",
    "            o1 = l0*l0.dag() + l1*l1.dag()\n",
    "            o2 = l1*l0.dag()\n",
    "            oper_lambda1.append(o1)\n",
    "            oper_lambda2.append(o2)\n",
    "\n",
    "\n",
    "        else:\n",
    "            oper_lambda1.append((qeye(Nlevels)))\n",
    "            oper_lambda2.append((qeye(Nlevels)))\n",
    "\n",
    "\n",
    "    oper_lambda1 = tensor(oper_lambda1)\n",
    "    oper_lambda2 = tensor(oper_lambda2)\n",
    "    \n",
    "    return oper_lambda1, oper_lambda2\n",
    "\n"
   ]
  },
  {
   "cell_type": "code",
   "execution_count": 4,
   "id": "d9c91ace",
   "metadata": {},
   "outputs": [],
   "source": [
    "gate_time_CZS = 250*1e-9\n",
    "Om_CZS =(pi/(sqrt(2)*gate_time_CZS))\n",
    "\n",
    "\n",
    "S0 = basis(3,0)\n",
    "S1 = basis(3,1)\n",
    "S2 = basis(3,2)\n",
    "\n",
    "S100 = tensor(S1, S0, S0)\n",
    "\n",
    "S110 = tensor(S1, S1, S0)\n",
    "S200 = tensor(S2, S0, S0)\n",
    "S101 = tensor(S1, S0, S1)\n",
    "\n",
    "S201 = tensor(S2, S0, S1)\n",
    "S111 = tensor(S1, S1, S1)\n",
    "S210 = tensor(S2, S1, S0)"
   ]
  },
  {
   "cell_type": "code",
   "execution_count": 5,
   "id": "978b3162",
   "metadata": {},
   "outputs": [],
   "source": [
    "X, Y= CZS(0,1,2)"
   ]
  },
  {
   "cell_type": "code",
   "execution_count": 6,
   "id": "cfc72697",
   "metadata": {},
   "outputs": [],
   "source": [
    "a1 = tensor(destroy(3), qeye(3), qeye(3))\n",
    "a2 = tensor(qeye(3), destroy(3), qeye(3))\n",
    "a3 = tensor(qeye(3), qeye(3), destroy(3))\n",
    "\n",
    "Ham = 0.5*Alpha*(a1.dag()*a1.dag()*a1*a1 + \\\n",
    "            a2.dag()*a2.dag()*a2*a2 + \\\n",
    "            a3.dag()*a3.dag()*a3*a3)"
   ]
  },
  {
   "cell_type": "code",
   "execution_count": 7,
   "id": "e0099d0f",
   "metadata": {},
   "outputs": [],
   "source": [
    "def al(t, args):\n",
    "    return np.exp(1j*Alpha*t)\n",
    "\n",
    "def ald(t, args):\n",
    "    return np.exp(-1j*Alpha*t)"
   ]
  },
  {
   "cell_type": "code",
   "execution_count": 13,
   "id": "4c8bce2d",
   "metadata": {},
   "outputs": [
    {
     "data": {
      "text/plain": [
       "(0.0, 1.0)"
      ]
     },
     "execution_count": 13,
     "metadata": {},
     "output_type": "execute_result"
    },
    {
     "data": {
      "image/png": "[encoded data removed]",
      "text/plain": [
       "<Figure size 432x288 with 1 Axes>"
      ]
     },
     "metadata": {
      "needs_background": "light"
     },
     "output_type": "display_data"
    }
   ],
   "source": [
    "Phi = -np.exp(1j*pi)\n",
    "tlist = np.linspace(0,gate_time_CZS, 101)\n",
    "psi0 = (tensor(S1, S1, S0) + 0.25*tensor(S1,S1,S1) +  0.3*tensor(S1, S0, S1)).unit() \n",
    "e_ops = [S110*S110.dag(), S111*S111.dag(), S101*S101.dag(), S201*S201.dag(), S210*S210.dag(), \\\n",
    "         S200*S200.dag(), S100*S100.dag()]\n",
    "res = mesolve([Ham , \\\n",
    "               [Om_CZS*(X), al], [Om_CZS*(X.dag()), ald] , \\\n",
    "               [Phi*Om_CZS*(Y), al], [np.conjugate(Phi)*Om_CZS*(Y.dag()), ald]], \\\n",
    "               psi0, tlist, c_ops = [], e_ops = e_ops\\\n",
    "             ,options = Options(store_final_state = True))\n",
    "import matplotlib.pyplot as plt\n",
    "plt.plot(tlist, res.expect[0], ':', label = '|110>', linewidth = 4)\n",
    "plt.plot(tlist, res.expect[5], '--',label = '|200>')\n",
    "plt.plot(tlist, res.expect[2], label = '|101>')\n",
    "\n",
    "\n",
    "plt.grid('on')\n",
    "plt.legend(loc = 'upper center', fontsize = 10)\n",
    "plt.ylim([0,1])"
   ]
  },
  {
   "cell_type": "code",
   "execution_count": 14,
   "id": "248e3326",
   "metadata": {},
   "outputs": [
    {
     "data": {
      "image/png": "[encoded data removed]",
      "text/plain": [
       "<Figure size 432x288 with 1 Axes>"
      ]
     },
     "metadata": {
      "needs_background": "light"
     },
     "output_type": "display_data"
    }
   ],
   "source": [
    "plt.plot(tlist, res.expect[1], label = '|111>')\n",
    "plt.plot(tlist, res.expect[4], label = '|210>')\n",
    "plt.plot(tlist, res.expect[3],':' ,label = '|201>')\n",
    "plt.plot(tlist, res.expect[6],'-.' ,label = '|100>')\n",
    "plt.legend(loc = 'upper center', fontsize = 15)\n",
    "plt.grid('on')"
   ]
  },
  {
   "cell_type": "code",
   "execution_count": 15,
   "id": "8b600924",
   "metadata": {},
   "outputs": [
    {
     "name": "stdout",
     "output_type": "stream",
     "text": [
      "Population of |101>\n",
      "--------------------\n",
      "Before \t 0.279 \t 0.0\n",
      "After \t -0.931 \t -0.0\n"
     ]
    }
   ],
   "source": [
    "print(\"Population of |101>\")\n",
    "print(\"-\"*20)\n",
    "print(\"Before \\t\", np.round(np.real(psi0.full()[10]),3)[0], \"\\t\", np.round(np.imag(psi0.full()[10]),3)[0])\n",
    "print(\"After \\t\", np.round(np.real(res.final_state.full()[10]),3)[0], \"\\t\", np.round(np.imag(res.final_state.full()[10]),3)[0])"
   ]
  },
  {
   "cell_type": "code",
   "execution_count": 16,
   "id": "d099af58",
   "metadata": {},
   "outputs": [
    {
     "name": "stdout",
     "output_type": "stream",
     "text": [
      "Population of |110>\n",
      "--------------------\n",
      "Before \t 0.931 \t 0.0\n",
      "After \t -0.279 \t -0.0\n"
     ]
    }
   ],
   "source": [
    "print(\"Population of |110>\")\n",
    "print(\"-\"*20)\n",
    "print(\"Before \\t\", np.round(np.real(psi0.full()[12]),3)[0], \"\\t\", np.round(np.imag(psi0.full()[12]),3)[0])\n",
    "print(\"After \\t\", np.round(np.real(res.final_state.full()[12]),3)[0], \"\\t\", np.round(np.imag(res.final_state.full()[12]),3)[0])"
   ]
  },
  {
   "cell_type": "code",
   "execution_count": 17,
   "id": "965b8cea",
   "metadata": {},
   "outputs": [
    {
     "name": "stdout",
     "output_type": "stream",
     "text": [
      "Population of |111>\n",
      "--------------------\n",
      "Before \t 0.233 \t 0.0\n",
      "After \t -0.233 \t -0.0\n"
     ]
    }
   ],
   "source": [
    "print(\"Population of |111>\")\n",
    "print(\"-\"*20)\n",
    "print(\"Before \\t\", np.round(np.real(psi0.full()[13]),3)[0],\"\\t\", np.round(np.imag(psi0.full()[13]),3)[0])\n",
    "print(\"After \\t\", np.round(np.real(res.final_state.full()[13]),3)[0],\"\\t\", np.round(np.imag(res.final_state.full()[13]),3)[0])"
   ]
  },
  {
   "cell_type": "markdown",
   "id": "021f0142",
   "metadata": {},
   "source": [
    "# 4 qubits"
   ]
  },
  {
   "cell_type": "code",
   "execution_count": 4,
   "id": "9e00cf3e",
   "metadata": {},
   "outputs": [],
   "source": [
    "import numpy as np\n",
    "from qutip import*\n",
    "sqrt = np.sqrt\n",
    "pi   = np.pi\n",
    "Alpha = -2*pi*200e6\n",
    "gate_time_CZS = 250*1e-9\n",
    "Om_CZS = pi/(sqrt(2)*gate_time_CZS)\n",
    "\n",
    "def al(t, args):\n",
    "    return np.exp(1j*Alpha*t)\n",
    "\n",
    "def ald(t, args):\n",
    "    return np.exp(-1j*Alpha*t)\n",
    "\n",
    "\n",
    "Nqubits = 4\n",
    "Nlevels = 3\n",
    "\n",
    "\n",
    "S0 = basis(3,0)\n",
    "S1 = basis(3,1)\n",
    "S2 = basis(3,2)\n",
    "\n",
    "\n",
    "X, Y= CZS(1,0,3)\n",
    "# Control = 1\n",
    "# Target1 = 0\n",
    "# Target2 = 3\n",
    "\n",
    "S1110 = tensor(S1, S1, S1, S0)\n",
    "S0210 = tensor(S0, S2, S1, S0)\n",
    "S0111 = tensor(S0, S1, S1, S1)\n",
    "\n",
    "S0211 = tensor(S0, S2, S1, S1)\n",
    "S1111 = tensor(S1, S1, S1, S1)\n",
    "S1210 = tensor(S1, S2, S1, S0)\n",
    "\n",
    "S = tensor(S2, S2, S2, S2)\n",
    "\n",
    "a1 = tensor(destroy(3), qeye(3), qeye(3), qeye(3))\n",
    "a2 = tensor(qeye(3), destroy(3), qeye(3), qeye(3))\n",
    "a3 = tensor(qeye(3), qeye(3), destroy(3), qeye(3))\n",
    "a4 = tensor(qeye(3), qeye(3), qeye(3), destroy(3))\n",
    "\n",
    "Ham = 0.5*Alpha*(a1.dag()*a1.dag()*a1*a1 + \\\n",
    "            a2.dag()*a2.dag()*a2*a2 + \\\n",
    "            a3.dag()*a3.dag()*a3*a3 + a4.dag()*a4.dag()*a4*a4)\n",
    "\n",
    "\n",
    "\n",
    "\n",
    "tlist = np.linspace(0,gate_time_CZS, 101)\n",
    "psi0 = (0.7*tensor(S1, S1, S1, S0) + 0.5*tensor(S0, S1, S1, S1) + tensor(S1, S1, S1, S1)).unit()\n",
    "e_ops = [S1110*S1110.dag(), S0210*S0210.dag(), S0111*S0111.dag(), S0211*S0211.dag(), S1111*S1111.dag(), \\\n",
    "         S1210*S1210.dag(), S*S.dag()]\n",
    "\n"
   ]
  },
  {
   "cell_type": "code",
   "execution_count": 6,
   "id": "fc8eb20b",
   "metadata": {},
   "outputs": [],
   "source": [
    "tlist = np.linspace(0,gate_time_CZS, 101)\n",
    "\n",
    "res = mesolve([Ham , \\\n",
    "               [Om_CZS*(X), al], [Om_CZS*(X.dag()), ald] , \\\n",
    "               [Om_CZS*(Y), al], [Om_CZS*(Y.dag()), ald]], \\\n",
    "               psi0, tlist, c_ops = [], e_ops = e_ops\\\n",
    "             ,options = Options(store_final_state = True))"
   ]
  },
  {
   "cell_type": "code",
   "execution_count": 7,
   "id": "180da412",
   "metadata": {},
   "outputs": [
    {
     "data": {
      "text/plain": [
       "(0.0, 1.0)"
      ]
     },
     "execution_count": 7,
     "metadata": {},
     "output_type": "execute_result"
    },
    {
     "data": {
      "image/png": "[encoded data removed]",
      "text/plain": [
       "<Figure size 432x288 with 1 Axes>"
      ]
     },
     "metadata": {
      "needs_background": "light"
     },
     "output_type": "display_data"
    }
   ],
   "source": [
    "import matplotlib.pyplot as plt\n",
    "plt.plot(tlist, res.expect[0], ':', label = '|110>', linewidth = 4)\n",
    "plt.plot(tlist, res.expect[1], '--',label = '|200>')\n",
    "plt.plot(tlist, res.expect[2], label = '|101>')\n",
    "\n",
    "\n",
    "plt.grid('on')\n",
    "plt.legend(loc = 'upper center', fontsize = 10)\n",
    "plt.ylim([0,1])"
   ]
  },
  {
   "cell_type": "code",
   "execution_count": 8,
   "id": "72b44610",
   "metadata": {},
   "outputs": [
    {
     "data": {
      "image/png": "[encoded data removed]",
      "text/plain": [
       "<Figure size 432x288 with 1 Axes>"
      ]
     },
     "metadata": {
      "needs_background": "light"
     },
     "output_type": "display_data"
    }
   ],
   "source": [
    "plt.plot(tlist, res.expect[4], label = '|111>')\n",
    "plt.plot(tlist, res.expect[5], label = '|210>')\n",
    "plt.plot(tlist, res.expect[3],':' ,label = '|201>')\n",
    "plt.legend(loc = 'upper center', fontsize = 15)\n",
    "plt.grid('on')"
   ]
  },
  {
   "cell_type": "code",
   "execution_count": 9,
   "id": "824495d6",
   "metadata": {},
   "outputs": [
    {
     "data": {
      "text/latex": [
       "Quantum object: dims = [[3, 3, 3, 3], [1, 1, 1, 1]], shape = (81, 1), type = ket\\begin{equation*}\\left(\\begin{array}{*{11}c}0.0\\\\0.0\\\\0.0\\\\0.0\\\\0.0\\\\\\vdots\\\\0.0\\\\0.0\\\\0.0\\\\0.0\\\\0.0\\\\\\end{array}\\right)\\end{equation*}"
      ],
      "text/plain": [
       "Quantum object: dims = [[3, 3, 3, 3], [1, 1, 1, 1]], shape = (81, 1), type = ket\n",
       "Qobj data =\n",
       "[[ 0.00000000e+00+0.00000000e+00j]\n",
       " [ 0.00000000e+00+0.00000000e+00j]\n",
       " [ 0.00000000e+00+0.00000000e+00j]\n",
       " [ 0.00000000e+00+0.00000000e+00j]\n",
       " [ 0.00000000e+00+0.00000000e+00j]\n",
       " [ 0.00000000e+00+0.00000000e+00j]\n",
       " [ 0.00000000e+00+0.00000000e+00j]\n",
       " [ 0.00000000e+00+0.00000000e+00j]\n",
       " [ 0.00000000e+00+0.00000000e+00j]\n",
       " [ 0.00000000e+00+0.00000000e+00j]\n",
       " [ 0.00000000e+00+0.00000000e+00j]\n",
       " [ 0.00000000e+00+0.00000000e+00j]\n",
       " [ 0.00000000e+00+0.00000000e+00j]\n",
       " [-1.35377981e-04+5.30572311e-01j]\n",
       " [ 0.00000000e+00+0.00000000e+00j]\n",
       " [ 0.00000000e+00+0.00000000e+00j]\n",
       " [ 0.00000000e+00+0.00000000e+00j]\n",
       " [ 0.00000000e+00+0.00000000e+00j]\n",
       " [ 0.00000000e+00+0.00000000e+00j]\n",
       " [ 0.00000000e+00+0.00000000e+00j]\n",
       " [ 0.00000000e+00+0.00000000e+00j]\n",
       " [ 1.53359080e-05+8.33763795e-06j]\n",
       " [ 2.01404791e-05-2.47514515e-06j]\n",
       " [ 0.00000000e+00+0.00000000e+00j]\n",
       " [ 0.00000000e+00+0.00000000e+00j]\n",
       " [ 0.00000000e+00+0.00000000e+00j]\n",
       " [ 0.00000000e+00+0.00000000e+00j]\n",
       " [ 0.00000000e+00+0.00000000e+00j]\n",
       " [ 0.00000000e+00+0.00000000e+00j]\n",
       " [ 0.00000000e+00+0.00000000e+00j]\n",
       " [ 0.00000000e+00+0.00000000e+00j]\n",
       " [ 0.00000000e+00+0.00000000e+00j]\n",
       " [ 0.00000000e+00+0.00000000e+00j]\n",
       " [ 0.00000000e+00+0.00000000e+00j]\n",
       " [ 0.00000000e+00+0.00000000e+00j]\n",
       " [ 0.00000000e+00+0.00000000e+00j]\n",
       " [ 0.00000000e+00+0.00000000e+00j]\n",
       " [ 0.00000000e+00+0.00000000e+00j]\n",
       " [ 0.00000000e+00+0.00000000e+00j]\n",
       " [ 1.06943947e-04-3.79191989e-01j]\n",
       " [-7.58093838e-01-4.00639353e-04j]\n",
       " [ 0.00000000e+00+0.00000000e+00j]\n",
       " [ 0.00000000e+00+0.00000000e+00j]\n",
       " [ 0.00000000e+00+0.00000000e+00j]\n",
       " [ 0.00000000e+00+0.00000000e+00j]\n",
       " [ 0.00000000e+00+0.00000000e+00j]\n",
       " [ 0.00000000e+00+0.00000000e+00j]\n",
       " [ 0.00000000e+00+0.00000000e+00j]\n",
       " [ 2.47514515e-06+2.01404791e-05j]\n",
       " [ 0.00000000e+00+0.00000000e+00j]\n",
       " [ 0.00000000e+00+0.00000000e+00j]\n",
       " [ 0.00000000e+00+0.00000000e+00j]\n",
       " [ 0.00000000e+00+0.00000000e+00j]\n",
       " [ 0.00000000e+00+0.00000000e+00j]\n",
       " [ 0.00000000e+00+0.00000000e+00j]\n",
       " [ 0.00000000e+00+0.00000000e+00j]\n",
       " [ 0.00000000e+00+0.00000000e+00j]\n",
       " [ 0.00000000e+00+0.00000000e+00j]\n",
       " [ 0.00000000e+00+0.00000000e+00j]\n",
       " [ 0.00000000e+00+0.00000000e+00j]\n",
       " [ 0.00000000e+00+0.00000000e+00j]\n",
       " [ 0.00000000e+00+0.00000000e+00j]\n",
       " [ 0.00000000e+00+0.00000000e+00j]\n",
       " [ 0.00000000e+00+0.00000000e+00j]\n",
       " [ 0.00000000e+00+0.00000000e+00j]\n",
       " [ 0.00000000e+00+0.00000000e+00j]\n",
       " [ 0.00000000e+00+0.00000000e+00j]\n",
       " [ 0.00000000e+00+0.00000000e+00j]\n",
       " [ 0.00000000e+00+0.00000000e+00j]\n",
       " [ 0.00000000e+00+0.00000000e+00j]\n",
       " [ 0.00000000e+00+0.00000000e+00j]\n",
       " [ 0.00000000e+00+0.00000000e+00j]\n",
       " [ 0.00000000e+00+0.00000000e+00j]\n",
       " [ 0.00000000e+00+0.00000000e+00j]\n",
       " [ 0.00000000e+00+0.00000000e+00j]\n",
       " [ 0.00000000e+00+0.00000000e+00j]\n",
       " [ 0.00000000e+00+0.00000000e+00j]\n",
       " [ 0.00000000e+00+0.00000000e+00j]\n",
       " [ 0.00000000e+00+0.00000000e+00j]\n",
       " [ 0.00000000e+00+0.00000000e+00j]\n",
       " [ 0.00000000e+00+0.00000000e+00j]]"
      ]
     },
     "execution_count": 9,
     "metadata": {},
     "output_type": "execute_result"
    }
   ],
   "source": [
    "res.final_state"
   ]
  },
  {
   "cell_type": "code",
   "execution_count": null,
   "id": "6dd9a7cb",
   "metadata": {},
   "outputs": [],
   "source": []
  },
  {
   "cell_type": "code",
   "execution_count": null,
   "id": "6a75ebd4",
   "metadata": {},
   "outputs": [],
   "source": []
  },
  {
   "cell_type": "code",
   "execution_count": null,
   "id": "10e6d499",
   "metadata": {},
   "outputs": [],
   "source": []
  },
  {
   "cell_type": "code",
   "execution_count": null,
   "id": "2d293aaa",
   "metadata": {},
   "outputs": [],
   "source": []
  },
  {
   "cell_type": "code",
   "execution_count": 18,
   "id": "07d677a0",
   "metadata": {},
   "outputs": [
    {
     "name": "stdout",
     "output_type": "stream",
     "text": [
      "The quantum gates which are modelled in this code and their notations-\n",
      "--------------------------------------------------------------------------------\n",
      "Pauli X \t\t PX\n",
      "Pauli Y \t\t PY\n",
      "Pauli Z \t\t PZ\n",
      "Hadamard \t\t HD\n",
      "\n",
      "\n",
      "Controlled Z \t\t CZ \t\t Format:Tar_Con=[[control, target]]\n",
      "Controlled CZS \t\t CCZS \t\t Format:Tar_Con=[[control, target1, target2, delta, phi]]\n"
     ]
    }
   ],
   "source": [
    "import numpy as np\n",
    "from qutip import*\n",
    "sqrt = np.sqrt\n",
    "pi   = np.pi\n",
    "import Chalmers_Simulator_mesolve as CS"
   ]
  },
  {
   "cell_type": "markdown",
   "id": "21d22f3d",
   "metadata": {},
   "source": [
    "## Noisefree and no ZZ coupling"
   ]
  },
  {
   "cell_type": "code",
   "execution_count": 32,
   "id": "d1baa9df",
   "metadata": {},
   "outputs": [],
   "source": [
    "class Add_gate:\n",
    "    def __init__(gate, name, Tar_Con, angle):\n",
    "        gate.name    = name\n",
    "        gate.Tar_Con = Tar_Con\n",
    "        gate.angle   = angle\n",
    "        \n",
    "Nqubits= 3\n",
    "Nlevels= 3\n",
    "Paulis_gt = 2.00e-8\n",
    "gate_time_CCZS = 250*1e-9\n",
    "CZ_gt = 2.71e-7\n",
    "Diss = [35.98e-6, 36.24e-6, 38.24e-6]\n",
    "Deph   = [38.74e-6, 39.34e-6, 40.34e-6]\n",
    "Alpha = -2*pi*200e6\n",
    "ZZ_list = [[0,1],[1,2],[0,2]]\n",
    "ZZ_strength = [0*2*pi*100e3,0*2*pi*100e3, 0*2*pi*100e3]\n",
    "Hamiltonian, c_ops = CS.create_system_Hamiltonian(Nqubits, Nlevels, Paulis_gt, CZ_gt, gate_time_CCZS, Alpha, Diss, \\\n",
    "                                                  Deph, Texc = [], ZZ_list=[], ZZ_strength=[])\n",
    "\n",
    "Ini = tensor(basis(3,1), basis(3,1), basis(3,2))\n",
    "\n",
    "gate=[]\n",
    "gate.append(Add_gate(name=[\"CCZS\"], Tar_Con=[[0,1,2,-1,pi/2]], angle=[0]        ))\n",
    "#gate.append(Add_gate(name=[\"CZ\"], Tar_Con=[[0,1]],             angle=[0]        ))\n",
    "\n",
    "fstate_no_noise = CS.Execute(Hamiltonian, [], gate, Ini)"
   ]
  },
  {
   "cell_type": "markdown",
   "id": "c645611f",
   "metadata": {},
   "source": [
    "## Presence of noise and ZZ coupling "
   ]
  },
  {
   "cell_type": "code",
   "execution_count": 33,
   "id": "8a42c408",
   "metadata": {},
   "outputs": [],
   "source": [
    "ZZ_strength = [2*pi*100e3,2*pi*100e3, 2*pi*100e3]\n",
    "Hamiltonian, c_ops = CS.create_system_Hamiltonian(Nqubits, Nlevels, Paulis_gt, CZ_gt, gate_time_CCZS, Alpha, Diss, \\\n",
    "                                                  Deph, Texc = [], ZZ_list=[], ZZ_strength=[])\n",
    "\n",
    "gate=[]\n",
    "gate.append(Add_gate(name=[\"CCZS\"], Tar_Con=[[0,1,2,-1,pi/2]], angle=[0]        ))\n",
    "#gate.append(Add_gate(name=[\"CZ\"], Tar_Con=[[0,1]],             angle=[0]        ))\n",
    "\n",
    "fstate_noise = CS.Execute(Hamiltonian, c_ops, gate, Ini)"
   ]
  },
  {
   "cell_type": "code",
   "execution_count": 34,
   "id": "e6b2babc",
   "metadata": {},
   "outputs": [
    {
     "data": {
      "text/plain": [
       "0.9866291580113924"
      ]
     },
     "execution_count": 34,
     "metadata": {},
     "output_type": "execute_result"
    }
   ],
   "source": [
    "fidelity(fstate_no_noise, fstate_noise)"
   ]
  },
  {
   "cell_type": "code",
   "execution_count": null,
   "id": "380eadec",
   "metadata": {},
   "outputs": [],
   "source": []
  },
  {
   "cell_type": "code",
   "execution_count": null,
   "id": "afd943f1",
   "metadata": {},
   "outputs": [],
   "source": []
  },
  {
   "cell_type": "code",
   "execution_count": null,
   "id": "2a58a670",
   "metadata": {},
   "outputs": [],
   "source": []
  }
 ],
 "metadata": {
  "kernelspec": {
   "display_name": "Python 3",
   "language": "python",
   "name": "python3"
  },
  "language_info": {
   "codemirror_mode": {
    "name": "ipython",
    "version": 3
   },
   "file_extension": ".py",
   "mimetype": "text/x-python",
   "name": "python",
   "nbconvert_exporter": "python",
   "pygments_lexer": "ipython3",
   "version": "3.8.8"
  }
 },
 "nbformat": 4,
 "nbformat_minor": 5
}
