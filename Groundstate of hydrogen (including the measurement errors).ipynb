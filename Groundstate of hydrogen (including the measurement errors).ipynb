{
 "cells": [
  {
   "cell_type": "code",
   "execution_count": 10,
   "id": "22412e34",
   "metadata": {},
   "outputs": [],
   "source": [
    "import numpy as np\n",
    "from qutip import*\n",
    "sqrt = np.sqrt\n",
    "pi   = np.pi\n",
    "import Chalmers_Simulator_mesolve as CS\n",
    "class Add_gate:\n",
    "    def __init__(gate, name, Tar_Con, angle):\n",
    "        gate.name    = name\n",
    "        gate.Tar_Con = Tar_Con\n",
    "        gate.angle   = angle"
   ]
  },
  {
   "cell_type": "code",
   "execution_count": 35,
   "id": "b618a353",
   "metadata": {},
   "outputs": [],
   "source": [
    "Nqubits= 2\n",
    "Nlevels= 3\n",
    "Paulis_gt = 2.00e-8\n",
    "CZ_gt = 2.71e-7\n",
    "Diss = [35.98e-6, 36.24e-6]\n",
    "Deph = [38.74e-6, 39.34e-6]\n",
    "Alpha = -2*pi*200e6\n",
    "ZZ_list = [[0,1]]\n",
    "ZZ_strength = [2*pi*100e3]\n",
    "Hamiltonian, c_ops = CS.create_system_Hamiltonian(Nqubits, Nlevels, Paulis_gt, CZ_gt, 0, Alpha, Diss, \\\n",
    "                                                  Deph, Texc = [], ZZ_list=[], ZZ_strength=[])\n",
    "\n",
    "Sz = Qobj(np.array(np.array([[1, 0, 0], [0, -1, 0], [0, 0, 1]])))\n",
    "Sx = Qobj(np.array(np.array([[0, 1, 0], [1, 0, 0], [0, 0, 1]])))\n",
    "Un = qeye(3)\n",
    "\n",
    "# Calculating the cost function\n",
    "H1=  -1.0537076071291114*  tensor(Un,  Un)\n",
    "H2=  0.3939836794385142*   tensor(Un,  Sz)\n",
    "H3= -0.3939836794385142*   tensor(Sz,  Un)\n",
    "H4= -0.011236585233181995* tensor(Sz,  Sz)\n",
    "H5=  0.181288808211496*    tensor(Sx,  Sx)\n",
    "cost_function= H1 + H2 + H3 + H4 + H5\n",
    "\n",
    "Theta_range= np.linspace(0,2*pi,50)\n",
    "state=[]\n",
    "cost=[]\n",
    "Ini = tensor(basis(3,0), basis(3,0))"
   ]
  },
  {
   "cell_type": "code",
   "execution_count": 36,
   "id": "c70bbf2a",
   "metadata": {},
   "outputs": [],
   "source": [
    "CF00 = [0.968, 0.020, 0.011, 0.000]\n",
    "CF01 = [0.059, 0.930, 0.010, 0.011]\n",
    "CF10 = [0.059, 0.001, 0.921, 0.019]\n",
    "CF11 = [0.040, 0.057, 0.056, 0.884]\n",
    "CM = Qobj([CF00, CF01, CF10, CF11])"
   ]
  },
  {
   "cell_type": "code",
   "execution_count": null,
   "id": "f94c1945",
   "metadata": {},
   "outputs": [
    {
     "name": "stdout",
     "output_type": "stream",
     "text": [
      "10 of 50 completed\n",
      "20 of 50 completed\n"
     ]
    }
   ],
   "source": [
    "coeff = [-1.0537076071291114, 0.3939836794385142, -0.3939836794385142, \\\n",
    "         -0.011236585233181995, 0.181288808211496]\n",
    "cost = []\n",
    "for i, theta in enumerate(Theta_range):\n",
    "    \n",
    "    gate=[]\n",
    "    gate.append(Add_gate(name=[\"PX\" , \"HD\"], Tar_Con=[0,1],   angle=[pi, 0]           ))\n",
    "    gate.append(Add_gate(name=[\"PX\" , \"PZ\"], Tar_Con=[0,1],   angle=[pi/2, theta]     ))\n",
    "    gate.append(Add_gate(name=[\"HD\"       ], Tar_Con=[1],     angle=[0]               ))\n",
    "    gate.append(Add_gate(name=[\"CZ\"       ], Tar_Con=[[0,1]], angle=[0]               ))\n",
    "    gate.append(Add_gate(name=[\"PX\"       ], Tar_Con=[0],     angle=[-pi/2]           ))\n",
    "    fstate = CS.Execute(Hamiltonian, c_ops, gate, Ini)    \n",
    "    \n",
    "    # Measurment part begins\n",
    "    gate=[]\n",
    "    gate.append(Add_gate(name=[\"U\" , \"U\"],  Tar_Con=[0,1],   angle=[0, 0]           ))\n",
    "    gate.append(Add_gate(name=[\"U\" , \"PZ\"], Tar_Con=[0,1],   angle=[0, 0]           ))\n",
    "    gate.append(Add_gate(name=[\"PZ\" , \"U\"], Tar_Con=[0,1],   angle=[0, 0]           ))\n",
    "    gate.append(Add_gate(name=[\"PZ\" , \"PZ\"],Tar_Con=[0,1],   angle=[0, 0]           ))\n",
    "    gate.append(Add_gate(name=[\"PY\" , \"PY\"],Tar_Con=[0,1],   angle=[-pi/2, -pi/2]     ))\n",
    "    cost.append(np.sum(np.real(CS.Measurement(Hamiltonian, fstate, gate, CM, coeff))))\n",
    "    if np.mod(i+1, 10) == 0:\n",
    "        print(i+1, 'of', len(Theta_range), 'completed')"
   ]
  },
  {
   "cell_type": "code",
   "execution_count": null,
   "id": "cace1fd3",
   "metadata": {},
   "outputs": [],
   "source": [
    "import matplotlib.pyplot as plt\n",
    "plt.plot(Theta_range, cost)\n",
    "\n",
    "\n",
    "import pickle\n",
    "with open('Cost_func_expt','rb') as read_file:\n",
    "    expt = pickle.load(read_file)\n",
    "theta_expt = np.linspace(0,2*pi,len(expt))\n",
    "\n",
    "plt.plot(theta_expt, expt,'*')\n",
    "plt.grid('on')"
   ]
  },
  {
   "cell_type": "code",
   "execution_count": 19,
   "id": "d8e3c319",
   "metadata": {},
   "outputs": [
    {
     "data": {
      "text/plain": [
       "50"
      ]
     },
     "execution_count": 19,
     "metadata": {},
     "output_type": "execute_result"
    }
   ],
   "source": [
    "len(cost)"
   ]
  },
  {
   "cell_type": "code",
   "execution_count": 30,
   "id": "f03e750a",
   "metadata": {},
   "outputs": [
    {
     "data": {
      "text/plain": [
       "-0.38216416905535877"
      ]
     },
     "execution_count": 30,
     "metadata": {},
     "output_type": "execute_result"
    }
   ],
   "source": [
    "0.3939836794385142*(0.006 - 0.945 - 0.040 + 0.009)"
   ]
  },
  {
   "cell_type": "code",
   "execution_count": 24,
   "id": "61761599",
   "metadata": {},
   "outputs": [
    {
     "data": {
      "text/latex": [
       "Quantum object: dims = [[2, 2], [2, 2]], shape = (4, 4), type = oper, isherm = True\\begin{equation*}\\left(\\begin{array}{*{11}c}1.0 & 0.0 & 0.0 & 0.0\\\\0.0 & 1.0 & 0.0 & 0.0\\\\0.0 & 0.0 & -1.0 & 0.0\\\\0.0 & 0.0 & 0.0 & -1.0\\\\\\end{array}\\right)\\end{equation*}"
      ],
      "text/plain": [
       "Quantum object: dims = [[2, 2], [2, 2]], shape = (4, 4), type = oper, isherm = True\n",
       "Qobj data =\n",
       "[[ 1.  0.  0.  0.]\n",
       " [ 0.  1.  0.  0.]\n",
       " [ 0.  0. -1.  0.]\n",
       " [ 0.  0.  0. -1.]]"
      ]
     },
     "execution_count": 24,
     "metadata": {},
     "output_type": "execute_result"
    }
   ],
   "source": [
    "tensor( sigmaz(), qeye(2))"
   ]
  },
  {
   "cell_type": "code",
   "execution_count": 10,
   "id": "ea02c8ac",
   "metadata": {},
   "outputs": [
    {
     "data": {
      "text/plain": [
       "[(0.9786515756786764-9.207967612780648e-16j),\n",
       " (-0.3659200579605762+3.442880108000849e-16j),\n",
       " (0.3659200579605762-3.442880108000849e-16j),\n",
       " (0.01043619858991288-9.819243232692286e-18j),\n",
       " (0.055758672128711474+6.526739871638421e-17j)]"
      ]
     },
     "execution_count": 10,
     "metadata": {},
     "output_type": "execute_result"
    }
   ],
   "source": [
    "cost[0]"
   ]
  },
  {
   "cell_type": "code",
   "execution_count": null,
   "id": "bbb38b22",
   "metadata": {},
   "outputs": [],
   "source": []
  },
  {
   "cell_type": "code",
   "execution_count": null,
   "id": "c8037b92",
   "metadata": {},
   "outputs": [],
   "source": []
  },
  {
   "cell_type": "code",
   "execution_count": 56,
   "id": "74cccaa1",
   "metadata": {},
   "outputs": [
    {
     "data": {
      "text/latex": [
       "Quantum object: dims = [[2, 2], [2, 2]], shape = (4, 4), type = oper, isherm = True\\begin{equation*}\\left(\\begin{array}{*{11}c}1.0 & 0.0 & 0.0 & 0.0\\\\0.0 & -1.0 & 0.0 & 0.0\\\\0.0 & 0.0 & -1.0 & 0.0\\\\0.0 & 0.0 & 0.0 & 1.0\\\\\\end{array}\\right)\\end{equation*}"
      ],
      "text/plain": [
       "Quantum object: dims = [[2, 2], [2, 2]], shape = (4, 4), type = oper, isherm = True\n",
       "Qobj data =\n",
       "[[ 1.  0.  0.  0.]\n",
       " [ 0. -1.  0.  0.]\n",
       " [ 0.  0. -1.  0.]\n",
       " [ 0.  0.  0.  1.]]"
      ]
     },
     "execution_count": 56,
     "metadata": {},
     "output_type": "execute_result"
    }
   ],
   "source": [
    "tensor(sigmaz(), sigmaz())"
   ]
  },
  {
   "cell_type": "code",
   "execution_count": 46,
   "id": "82acfb0f",
   "metadata": {},
   "outputs": [
    {
     "data": {
      "text/latex": [
       "Quantum object: dims = [[9], [1]], shape = (9, 1), type = ket\\begin{equation*}\\left(\\begin{array}{*{11}c}0.005\\\\0.905\\\\2.734\\times10^{-04}\\\\0.038\\\\0.009\\\\0.034\\\\0.001\\\\0.006\\\\0.001\\\\\\end{array}\\right)\\end{equation*}"
      ],
      "text/plain": [
       "Quantum object: dims = [[9], [1]], shape = (9, 1), type = ket\n",
       "Qobj data =\n",
       "[[5.37022379e-03]\n",
       " [9.05095593e-01]\n",
       " [2.73367058e-04]\n",
       " [3.80004735e-02]\n",
       " [8.95625929e-03]\n",
       " [3.36728161e-02]\n",
       " [1.28601542e-03]\n",
       " [6.13547956e-03]\n",
       " [1.20977191e-03]]"
      ]
     },
     "execution_count": 46,
     "metadata": {},
     "output_type": "execute_result"
    }
   ],
   "source": [
    "Qobj(fstate.diag())"
   ]
  },
  {
   "cell_type": "code",
   "execution_count": 22,
   "id": "50c74874",
   "metadata": {},
   "outputs": [],
   "source": [
    "def final_pop(probs, gate):\n",
    "    \n",
    "    ops = []\n",
    "    for i in gate:\n",
    "        if i=='PX' or i=='PY' or i=='PZ':\n",
    "            ops.append(sigmaz())\n",
    "            \n",
    "        elif i == 'U':\n",
    "            ops.append(qeye(2))\n",
    "            \n",
    "            \n",
    "    ops= tensor(ops).diag()\n",
    "\n",
    "    sum = 0\n",
    "    for i, j in enumerate(ops):\n",
    "        sum = sum + j*probs[i]\n",
    "\n",
    "    return sum "
   ]
  },
  {
   "cell_type": "code",
   "execution_count": 26,
   "id": "86c1d20e",
   "metadata": {},
   "outputs": [
    {
     "data": {
      "text/plain": [
       "array([0., 0., 0., 0.])"
      ]
     },
     "execution_count": 26,
     "metadata": {},
     "output_type": "execute_result"
    }
   ],
   "source": [
    "tensor(sigmax(), qeye(2)).diag()"
   ]
  },
  {
   "cell_type": "code",
   "execution_count": 14,
   "id": "9c73df73",
   "metadata": {},
   "outputs": [],
   "source": [
    "import itertools as it\n",
    "def _3to2levels(dm):\n",
    "    '''\n",
    "    This function returns the density matrix in the computational subspace.\n",
    "    \n",
    "    Arguments-\n",
    "    dm          :      Density matrix in the total Hilbert space\n",
    "    \n",
    "    Returns-\n",
    "    Prob_array  :      Array of probabilities in the computational space\n",
    "    \n",
    "    '''\n",
    "\n",
    "\n",
    "    levels= list(map(\",\".join, it.product(*[map(str, range(Nlevels))])))\n",
    "    states = [\"\".join(seq) for seq in it.product(levels, repeat=Nqubits)]\n",
    "    Prob_array = []\n",
    "    counter = 0\n",
    "    for i in states:\n",
    "        if '2' not in i:\n",
    "            Prob_array.append(dm[counter, counter])\n",
    "        counter = counter + 1\n",
    "    \n",
    "    Prob_array = np.array(Prob_array)\n",
    "    norm = 1/np.sum(Prob_array)\n",
    "    return Prob_array"
   ]
  },
  {
   "cell_type": "code",
   "execution_count": null,
   "id": "e2c02ff3",
   "metadata": {},
   "outputs": [],
   "source": []
  }
 ],
 "metadata": {
  "kernelspec": {
   "display_name": "Python 3",
   "language": "python",
   "name": "python3"
  },
  "language_info": {
   "codemirror_mode": {
    "name": "ipython",
    "version": 3
   },
   "file_extension": ".py",
   "mimetype": "text/x-python",
   "name": "python",
   "nbconvert_exporter": "python",
   "pygments_lexer": "ipython3",
   "version": "3.8.8"
  }
 },
 "nbformat": 4,
 "nbformat_minor": 5
}
