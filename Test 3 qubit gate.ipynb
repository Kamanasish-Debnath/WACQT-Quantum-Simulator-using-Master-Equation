{
 "cells": [
  {
   "cell_type": "markdown",
   "id": "4ab0012f",
   "metadata": {},
   "source": [
    "## To do list - \n",
    "1. Incorporate the measurement part\n",
    "2. Time dynamics\n",
    "3. Propagator"
   ]
  },
  {
   "cell_type": "code",
   "execution_count": null,
   "id": "0dee7a97",
   "metadata": {},
   "outputs": [],
   "source": []
  },
  {
   "cell_type": "code",
   "execution_count": null,
   "id": "c3180b81",
   "metadata": {},
   "outputs": [],
   "source": []
  },
  {
   "cell_type": "markdown",
   "id": "a7a7f867",
   "metadata": {},
   "source": [
    "## Testing the Controlled CZS gate"
   ]
  },
  {
   "cell_type": "code",
   "execution_count": 41,
   "id": "c9a6bf4f",
   "metadata": {},
   "outputs": [],
   "source": [
    "import numpy as np\n",
    "import matplotlib.pyplot as plt\n",
    "from qutip import*\n",
    "sqrt = np.sqrt\n",
    "pi   = np.pi"
   ]
  },
  {
   "cell_type": "code",
   "execution_count": 42,
   "id": "a908e943",
   "metadata": {},
   "outputs": [],
   "source": [
    "A = destroy(3)\n",
    "Alpha = -2*pi*200e6"
   ]
  },
  {
   "cell_type": "code",
   "execution_count": 3,
   "id": "7ad75f20",
   "metadata": {},
   "outputs": [],
   "source": [
    "Nlevels = 3\n",
    "Nqubits = 3\n",
    "def CZS(control, target1, target2):\n",
    "    \n",
    "    '''\n",
    "    This function returns the two operators for three qubit gate Controlled CZs \n",
    "    on which the drives lambda_1 and lambda_2 can be applied with an exponential \n",
    "    factor to account for the nonlinearity of the third energy level. \n",
    "    Refer PRX QUANTUM 2, 040348 (2021).\n",
    "    \n",
    "    Arguments-\n",
    "    control        :      control qubit (q0 in the main article)\n",
    "    target1        :      first target qubit (q1 in the main article)\n",
    "    target2        :      second target qubit (q2 in the main article)\n",
    "    \n",
    "    Returns-\n",
    "    oper_lambda1   :      |110><200| equivalent of the main article \n",
    "                          in the total Hilbert space.\n",
    "                          \n",
    "    oper_lambda2   :      |101><200| equivalent of the main article\n",
    "                          in the total Hilbert space.\n",
    "    \n",
    "    \n",
    "    '''\n",
    "\n",
    "    l0 = basis(Nlevels, 0)\n",
    "    l1 = basis(Nlevels, 1)\n",
    "    l2 = basis(Nlevels, 2)\n",
    "\n",
    "    oper_lambda1 = []\n",
    "    oper_lambda2 = []\n",
    "    for i in range(Nqubits):\n",
    "\n",
    "        if i == control:    \n",
    "            o1 = l1*l2.dag()\n",
    "            o2 = l1*l2.dag()\n",
    "            oper_lambda1.append(o1)\n",
    "            oper_lambda2.append(o2)\n",
    "\n",
    "\n",
    "\n",
    "        elif i == target1:\n",
    "            o1 = l1*l0.dag()\n",
    "            o2 = l0*l0.dag() + l1*l1.dag()\n",
    "            oper_lambda1.append(o1)\n",
    "            oper_lambda2.append(o2)\n",
    "\n",
    "\n",
    "        elif i == target2:\n",
    "            o1 = l0*l0.dag() + l1*l1.dag()\n",
    "            o2 = l1*l0.dag()\n",
    "            oper_lambda1.append(o1)\n",
    "            oper_lambda2.append(o2)\n",
    "\n",
    "\n",
    "        else:\n",
    "            oper_lambda1.append((qeye(Nlevels)))\n",
    "            oper_lambda2.append((qeye(Nlevels)))\n",
    "\n",
    "\n",
    "    oper_lambda1 = tensor(oper_lambda1)\n",
    "    oper_lambda2 = tensor(oper_lambda2)\n",
    "    \n",
    "    return oper_lambda1, oper_lambda2\n",
    "\n"
   ]
  },
  {
   "cell_type": "code",
   "execution_count": 44,
   "id": "d9c91ace",
   "metadata": {},
   "outputs": [],
   "source": [
    "gate_time_CZS = 250*1e-9\n",
    "Om_CZS =(pi/(sqrt(2)*gate_time_CZS))\n",
    "\n",
    "\n",
    "S0 = basis(3,0)\n",
    "S1 = basis(3,1)\n",
    "S2 = basis(3,2)\n",
    "\n",
    "S100 = tensor(S1, S0, S0)\n",
    "\n",
    "S110 = tensor(S1, S1, S0)\n",
    "S200 = tensor(S2, S0, S0)\n",
    "S101 = tensor(S1, S0, S1)\n",
    "\n",
    "S201 = tensor(S2, S0, S1)\n",
    "S111 = tensor(S1, S1, S1)\n",
    "S210 = tensor(S2, S1, S0)\n",
    "\n",
    "\n",
    "X, Y= CZS(0,1,2)"
   ]
  },
  {
   "cell_type": "code",
   "execution_count": 45,
   "id": "cfc72697",
   "metadata": {},
   "outputs": [],
   "source": [
    "a1 = tensor(destroy(3), qeye(3), qeye(3))\n",
    "a2 = tensor(qeye(3), destroy(3), qeye(3))\n",
    "a3 = tensor(qeye(3), qeye(3), destroy(3))\n",
    "\n",
    "Ham = 0.5*Alpha*(a1.dag()*a1.dag()*a1*a1 + \\\n",
    "            a2.dag()*a2.dag()*a2*a2 + \\\n",
    "            a3.dag()*a3.dag()*a3*a3)\n",
    "\n",
    "def al(t, args):\n",
    "    return np.exp(1j*Alpha*t)\n",
    "\n",
    "def ald(t, args):\n",
    "    return np.exp(-1j*Alpha*t)"
   ]
  },
  {
   "cell_type": "code",
   "execution_count": 46,
   "id": "4c8bce2d",
   "metadata": {},
   "outputs": [
    {
     "data": {
      "text/plain": [
       "(0.0, 1.0)"
      ]
     },
     "execution_count": 46,
     "metadata": {},
     "output_type": "execute_result"
    },
    {
     "data": {
      "image/png": "[encoded data removed]",
      "text/plain": [
       "<Figure size 432x288 with 1 Axes>"
      ]
     },
     "metadata": {
      "needs_background": "light"
     },
     "output_type": "display_data"
    }
   ],
   "source": [
    "Phi = -np.exp(1j*pi/2)\n",
    "\n",
    "\n",
    "tlist = np.linspace(0,gate_time_CZS, 101)\n",
    "psi0 = (tensor(S1, S1, S0) + 0.25*tensor(S1,S1,S1) +  0.3*tensor(S1, S0, S1)).unit() \n",
    "e_ops = [S110*S110.dag(), S111*S111.dag(), S101*S101.dag(), S201*S201.dag(), S210*S210.dag(), \\\n",
    "         S200*S200.dag(), S100*S100.dag()]\n",
    "res = mesolve([Ham , \\\n",
    "               [Om_CZS*(X), al], [Om_CZS*(X.dag()), ald] , \\\n",
    "               [Phi*Om_CZS*(Y), al], [np.conjugate(Phi)*Om_CZS*(Y.dag()), ald]], \\\n",
    "               psi0, tlist, c_ops = [], e_ops = e_ops\\\n",
    "             ,options = Options(store_final_state = True))\n",
    "plt.plot(tlist, res.expect[0], ':', label = '|110>')\n",
    "plt.plot(tlist, res.expect[5], '--',label = '|200>')\n",
    "plt.plot(tlist, res.expect[2], label = '|101>')\n",
    "\n",
    "\n",
    "plt.grid('on')\n",
    "plt.legend(loc = 'upper center', fontsize = 12)\n",
    "plt.ylim([0,1])"
   ]
  },
  {
   "cell_type": "code",
   "execution_count": 47,
   "id": "248e3326",
   "metadata": {},
   "outputs": [
    {
     "data": {
      "image/png": "[encoded data removed]",
      "text/plain": [
       "<Figure size 432x288 with 1 Axes>"
      ]
     },
     "metadata": {
      "needs_background": "light"
     },
     "output_type": "display_data"
    }
   ],
   "source": [
    "plt.plot(tlist, res.expect[1], label = '|111>')\n",
    "plt.plot(tlist, res.expect[4], label = '|210>')\n",
    "plt.plot(tlist, res.expect[3],':' ,label = '|201>')\n",
    "plt.plot(tlist, res.expect[6],'-.' ,label = '|100>')\n",
    "plt.legend(loc = 'upper center', fontsize = 12)\n",
    "plt.grid('on')"
   ]
  },
  {
   "cell_type": "code",
   "execution_count": 48,
   "id": "8b600924",
   "metadata": {},
   "outputs": [
    {
     "name": "stdout",
     "output_type": "stream",
     "text": [
      "Population of |101>\n",
      "--------------------\n",
      "Before \t 0.28 \t\t 0.0\n",
      "After \t -0.0 \t 0.93\n"
     ]
    }
   ],
   "source": [
    "print(\"Population of |101>\")\n",
    "print(\"-\"*20)\n",
    "print(\"Before \\t\", np.round(np.real(psi0.full()[10]),2)[0], \"\\t\\t\", np.round(np.imag(psi0.full()[10]),2)[0])\n",
    "print(\"After \\t\", np.round(np.real(res.final_state.full()[10]),2)[0], \"\\t\", np.round(np.imag(res.final_state.full()[10]),2)[0])"
   ]
  },
  {
   "cell_type": "code",
   "execution_count": 49,
   "id": "20a03fb7",
   "metadata": {},
   "outputs": [
    {
     "name": "stdout",
     "output_type": "stream",
     "text": [
      "Population of |110>\n",
      "--------------------\n",
      "Before \t 0.93 \t\t 0.0\n",
      "After \t 0.0 \t -0.28\n"
     ]
    }
   ],
   "source": [
    "print(\"Population of |110>\")\n",
    "print(\"-\"*20)\n",
    "print(\"Before \\t\", np.round(np.real(psi0.full()[12]),2)[0], \"\\t\\t\", np.round(np.imag(psi0.full()[12]),2)[0])\n",
    "print(\"After \\t\", np.round(np.real(res.final_state.full()[12]),2)[0], \"\\t\", np.round(np.imag(res.final_state.full()[12]),2)[0])"
   ]
  },
  {
   "cell_type": "code",
   "execution_count": 50,
   "id": "919bb3fb",
   "metadata": {},
   "outputs": [
    {
     "name": "stdout",
     "output_type": "stream",
     "text": [
      "Population of |111>\n",
      "--------------------\n",
      "Before \t 0.23 \t\t 0.0\n",
      "After \t -0.23 \t -0.0\n"
     ]
    }
   ],
   "source": [
    "print(\"Population of |111>\")\n",
    "print(\"-\"*20)\n",
    "print(\"Before \\t\", np.round(np.real(psi0.full()[13]),2)[0],\"\\t\\t\", np.round(np.imag(psi0.full()[13]),2)[0])\n",
    "print(\"After \\t\",  np.round(np.real(res.final_state.full()[13]),2)[0],\"\\t\", np.round(np.imag(res.final_state.full()[13]),2)[0])"
   ]
  },
  {
   "cell_type": "markdown",
   "id": "021f0142",
   "metadata": {},
   "source": [
    "# 4 qubits"
   ]
  },
  {
   "cell_type": "code",
   "execution_count": 4,
   "id": "9e00cf3e",
   "metadata": {},
   "outputs": [],
   "source": [
    "import numpy as np\n",
    "from qutip import*\n",
    "sqrt = np.sqrt\n",
    "pi   = np.pi\n",
    "Alpha = -2*pi*200e6\n",
    "gate_time_CZS = 250*1e-9\n",
    "Om_CZS = pi/(sqrt(2)*gate_time_CZS)\n",
    "\n",
    "def al(t, args):\n",
    "    return np.exp(1j*Alpha*t)\n",
    "\n",
    "def ald(t, args):\n",
    "    return np.exp(-1j*Alpha*t)\n",
    "\n",
    "\n",
    "Nqubits = 4\n",
    "Nlevels = 3\n",
    "\n",
    "\n",
    "S0 = basis(3,0)\n",
    "S1 = basis(3,1)\n",
    "S2 = basis(3,2)\n",
    "\n",
    "\n",
    "X, Y= CZS(1,0,3)\n",
    "# Control = 1\n",
    "# Target1 = 0\n",
    "# Target2 = 3\n",
    "\n",
    "S1110 = tensor(S1, S1, S1, S0)\n",
    "S0210 = tensor(S0, S2, S1, S0)\n",
    "S0111 = tensor(S0, S1, S1, S1)\n",
    "\n",
    "S0211 = tensor(S0, S2, S1, S1)\n",
    "S1111 = tensor(S1, S1, S1, S1)\n",
    "S1210 = tensor(S1, S2, S1, S0)\n",
    "\n",
    "S = tensor(S2, S2, S2, S2)\n",
    "\n",
    "a1 = tensor(destroy(3), qeye(3), qeye(3), qeye(3))\n",
    "a2 = tensor(qeye(3), destroy(3), qeye(3), qeye(3))\n",
    "a3 = tensor(qeye(3), qeye(3), destroy(3), qeye(3))\n",
    "a4 = tensor(qeye(3), qeye(3), qeye(3), destroy(3))\n",
    "\n",
    "Ham = 0.5*Alpha*(a1.dag()*a1.dag()*a1*a1 + \\\n",
    "            a2.dag()*a2.dag()*a2*a2 + \\\n",
    "            a3.dag()*a3.dag()*a3*a3 + a4.dag()*a4.dag()*a4*a4)\n",
    "\n",
    "\n",
    "\n",
    "\n",
    "tlist = np.linspace(0,gate_time_CZS, 101)\n",
    "psi0 = (0.7*tensor(S1, S1, S1, S0) + 0.5*tensor(S0, S1, S1, S1) + tensor(S1, S1, S1, S1)).unit()\n",
    "e_ops = [S1110*S1110.dag(), S0210*S0210.dag(), S0111*S0111.dag(), S0211*S0211.dag(), S1111*S1111.dag(), \\\n",
    "         S1210*S1210.dag(), S*S.dag()]\n",
    "\n"
   ]
  },
  {
   "cell_type": "code",
   "execution_count": 6,
   "id": "fc8eb20b",
   "metadata": {},
   "outputs": [],
   "source": [
    "tlist = np.linspace(0,gate_time_CZS, 101)\n",
    "\n",
    "res = mesolve([Ham , \\\n",
    "               [Om_CZS*(X), al], [Om_CZS*(X.dag()), ald] , \\\n",
    "               [Om_CZS*(Y), al], [Om_CZS*(Y.dag()), ald]], \\\n",
    "               psi0, tlist, c_ops = [], e_ops = e_ops\\\n",
    "             ,options = Options(store_final_state = True))"
   ]
  },
  {
   "cell_type": "code",
   "execution_count": 7,
   "id": "180da412",
   "metadata": {},
   "outputs": [
    {
     "data": {
      "text/plain": [
       "(0.0, 1.0)"
      ]
     },
     "execution_count": 7,
     "metadata": {},
     "output_type": "execute_result"
    },
    {
     "data": {
      "image/png": "[encoded data removed]",
      "text/plain": [
       "<Figure size 432x288 with 1 Axes>"
      ]
     },
     "metadata": {
      "needs_background": "light"
     },
     "output_type": "display_data"
    }
   ],
   "source": [
    "import matplotlib.pyplot as plt\n",
    "plt.plot(tlist, res.expect[0], ':', label = '|110>', linewidth = 4)\n",
    "plt.plot(tlist, res.expect[1], '--',label = '|200>')\n",
    "plt.plot(tlist, res.expect[2], label = '|101>')\n",
    "\n",
    "\n",
    "plt.grid('on')\n",
    "plt.legend(loc = 'upper center', fontsize = 10)\n",
    "plt.ylim([0,1])"
   ]
  },
  {
   "cell_type": "code",
   "execution_count": 41,
   "id": "72b44610",
   "metadata": {},
   "outputs": [
    {
     "data": {
      "image/png": "[encoded data removed]",
      "text/plain": [
       "<Figure size 432x288 with 1 Axes>"
      ]
     },
     "metadata": {
      "needs_background": "light"
     },
     "output_type": "display_data"
    }
   ],
   "source": [
    "plt.plot(tlist, res.expect[4], label = '|111>')\n",
    "plt.plot(tlist, res.expect[5], label = '|210>')\n",
    "plt.plot(tlist, res.expect[3],':' ,label = '|201>')\n",
    "plt.legend(loc = 'upper center', fontsize = 15)\n",
    "plt.grid('on')"
   ]
  },
  {
   "cell_type": "code",
   "execution_count": null,
   "id": "c6e3f003",
   "metadata": {},
   "outputs": [],
   "source": []
  },
  {
   "cell_type": "code",
   "execution_count": null,
   "id": "5066ea3f",
   "metadata": {},
   "outputs": [],
   "source": []
  },
  {
   "cell_type": "code",
   "execution_count": null,
   "id": "6aa3c221",
   "metadata": {},
   "outputs": [],
   "source": []
  },
  {
   "cell_type": "code",
   "execution_count": null,
   "id": "1d1d93cf",
   "metadata": {},
   "outputs": [],
   "source": []
  },
  {
   "cell_type": "code",
   "execution_count": 5,
   "id": "633805b6",
   "metadata": {},
   "outputs": [
    {
     "name": "stdout",
     "output_type": "stream",
     "text": [
      "The quantum gates which are modelled in this code and their notations-\n",
      "--------------------------------------------------------------------------------\n",
      "Pauli X \t\t PX\n",
      "Pauli Y \t\t PY\n",
      "Pauli Z \t\t PZ\n",
      "Hadamard \t\t HD\n",
      "\n",
      "\n",
      "Controlled Z \t\t CZ \t\t Format:Tar_Con=[[control, target]]\n",
      "Controlled CZS \t\t CCZS \t\t Format:Tar_Con=[[control, target1, target2, phi]]\n"
     ]
    }
   ],
   "source": [
    "import numpy as np\n",
    "from qutip import*\n",
    "sqrt = np.sqrt\n",
    "pi   = np.pi\n",
    "import Chalmers_Simulator_mesolve as CS"
   ]
  },
  {
   "cell_type": "markdown",
   "id": "23d2171b",
   "metadata": {},
   "source": [
    "## Noisefree and no ZZ coupling"
   ]
  },
  {
   "cell_type": "code",
   "execution_count": 51,
   "id": "1cc33fe3",
   "metadata": {},
   "outputs": [],
   "source": [
    "class Add_gate:\n",
    "    def __init__(gate, name, Tar_Con, angle):\n",
    "        gate.name    = name\n",
    "        gate.Tar_Con = Tar_Con\n",
    "        gate.angle   = angle\n",
    "        \n",
    "Nqubits= 3\n",
    "Nlevels= 3\n",
    "Paulis_gt = 2.00e-8\n",
    "gate_time_CCZS = 250*1e-9\n",
    "CZ_gt = 2.71e-7\n",
    "Diss  = [35.98e-6, 36.24e-6, 38.24e-6]\n",
    "Deph  = [38.74e-6, 39.34e-6, 40.34e-6]\n",
    "Alpha = -2*pi*200e6\n",
    "ZZ_list = [[0,1],[1,2],[0,2]]\n",
    "ZZ_strength = [0*2*pi*100e3,0*2*pi*100e3, 0*2*pi*100e3]\n",
    "Hamiltonian, c_ops = CS.create_system_Hamiltonian(Nqubits, Nlevels, Paulis_gt, CZ_gt, gate_time_CCZS, Alpha, Diss, \\\n",
    "                                                  Deph, Texc = [], ZZ_list=[], ZZ_strength=[])\n",
    "\n",
    "Ini = tensor(basis(3,1), basis(3,2), basis(3,1))\n",
    "\n",
    "gate=[]\n",
    "gate.append(Add_gate(name=[\"CCZS\"], Tar_Con=[[0,1,2,pi/2]],      angle=[0]        ))\n",
    "#gate.append(Add_gate(name=[\"CZ\"],   Tar_Con=[[0,1]],             angle=[0]        ))\n",
    "\n",
    "fstate_no_noise = CS.Execute(Hamiltonian, [], gate, Ini)"
   ]
  },
  {
   "cell_type": "markdown",
   "id": "e62b3cc4",
   "metadata": {},
   "source": [
    "## Presence of noise and ZZ coupling "
   ]
  },
  {
   "cell_type": "code",
   "execution_count": 52,
   "id": "4f029e37",
   "metadata": {},
   "outputs": [],
   "source": [
    "ZZ_strength = [2*pi*150e3,2*pi*150e3, 2*pi*150e3]\n",
    "Hamiltonian, c_ops = CS.create_system_Hamiltonian(Nqubits, Nlevels, Paulis_gt, CZ_gt, gate_time_CCZS, Alpha, Diss, \\\n",
    "                                                  Deph, Texc = [], ZZ_list=[], ZZ_strength=[])\n",
    "\n",
    "fstate_noise = CS.Execute(Hamiltonian, c_ops, gate, Ini)"
   ]
  },
  {
   "cell_type": "code",
   "execution_count": 55,
   "id": "02c240a7",
   "metadata": {},
   "outputs": [
    {
     "data": {
      "text/plain": [
       "0.9864511872290282"
      ]
     },
     "execution_count": 55,
     "metadata": {},
     "output_type": "execute_result"
    }
   ],
   "source": [
    "fidelity(fstate_no_noise*fstate_no_noise.dag(), fstate_noise)"
   ]
  },
  {
   "cell_type": "code",
   "execution_count": 54,
   "id": "14f4904f",
   "metadata": {},
   "outputs": [
    {
     "data": {
      "text/latex": [
       "Quantum object: dims = [[3, 3, 3], [1, 1, 1]], shape = (27, 1), type = ket\\begin{equation*}\\left(\\begin{array}{*{11}c}0.0\\\\0.0\\\\0.0\\\\0.0\\\\0.0\\\\\\vdots\\\\0.0\\\\0.0\\\\0.0\\\\0.0\\\\0.0\\\\\\end{array}\\right)\\end{equation*}"
      ],
      "text/plain": [
       "Quantum object: dims = [[3, 3, 3], [1, 1, 1]], shape = (27, 1), type = ket\n",
       "Qobj data =\n",
       "[[0.        +0.j       ]\n",
       " [0.        +0.j       ]\n",
       " [0.        +0.j       ]\n",
       " [0.        +0.j       ]\n",
       " [0.        +0.j       ]\n",
       " [0.        +0.j       ]\n",
       " [0.        +0.j       ]\n",
       " [0.        +0.j       ]\n",
       " [0.        +0.j       ]\n",
       " [0.        +0.j       ]\n",
       " [0.        +0.j       ]\n",
       " [0.        +0.j       ]\n",
       " [0.        +0.j       ]\n",
       " [0.        +0.j       ]\n",
       " [0.        +0.j       ]\n",
       " [0.        +0.j       ]\n",
       " [0.99999963-0.0008593j]\n",
       " [0.        +0.j       ]\n",
       " [0.        +0.j       ]\n",
       " [0.        +0.j       ]\n",
       " [0.        +0.j       ]\n",
       " [0.        +0.j       ]\n",
       " [0.        +0.j       ]\n",
       " [0.        +0.j       ]\n",
       " [0.        +0.j       ]\n",
       " [0.        +0.j       ]\n",
       " [0.        +0.j       ]]"
      ]
     },
     "execution_count": 54,
     "metadata": {},
     "output_type": "execute_result"
    }
   ],
   "source": []
  },
  {
   "cell_type": "code",
   "execution_count": null,
   "id": "dd600e46",
   "metadata": {},
   "outputs": [],
   "source": []
  },
  {
   "cell_type": "code",
   "execution_count": null,
   "id": "b3573225",
   "metadata": {},
   "outputs": [],
   "source": []
  },
  {
   "cell_type": "code",
   "execution_count": null,
   "id": "acf12b5e",
   "metadata": {},
   "outputs": [],
   "source": []
  },
  {
   "cell_type": "code",
   "execution_count": null,
   "id": "d036a1b7",
   "metadata": {},
   "outputs": [],
   "source": []
  },
  {
   "cell_type": "code",
   "execution_count": 20,
   "id": "f3c4401d",
   "metadata": {},
   "outputs": [
    {
     "data": {
      "text/plain": [
       "['000',\n",
       " '001',\n",
       " '002',\n",
       " '010',\n",
       " '011',\n",
       " '012',\n",
       " '020',\n",
       " '021',\n",
       " '022',\n",
       " '100',\n",
       " '101',\n",
       " '102',\n",
       " '110',\n",
       " '111',\n",
       " '112',\n",
       " '120',\n",
       " '121',\n",
       " '122',\n",
       " '200',\n",
       " '201',\n",
       " '202',\n",
       " '210',\n",
       " '211',\n",
       " '212',\n",
       " '220',\n",
       " '221',\n",
       " '222']"
      ]
     },
     "execution_count": 20,
     "metadata": {},
     "output_type": "execute_result"
    }
   ],
   "source": [
    "import itertools as it\n",
    "num_qubits= 3\n",
    "levels_per_qubit= 3\n",
    "\n",
    "levels= list(map(\",\".join, it.product(*[map(str, range(levels_per_qubit))])))\n",
    "[\"\".join(seq) for seq in it.product(levels, repeat=num_qubits)]"
   ]
  },
  {
   "cell_type": "markdown",
   "id": "d5c3675d",
   "metadata": {},
   "source": [
    "## Incorporating measurement Errors"
   ]
  },
  {
   "cell_type": "code",
   "execution_count": 71,
   "id": "c108ee8b",
   "metadata": {},
   "outputs": [],
   "source": [
    "def Measurement(Hamiltonian, c_ops, Ini, gate, CM, coeff):\n",
    "    '''\n",
    "    This function returns the diagonal elements (population) of the density \n",
    "    matrix for a given measurement gates and confusion matrix.\n",
    "    \n",
    "    Arguments-\n",
    "    Hamiltonian  :  Bare Hamiltonian of the system\n",
    "    c_ops        :  List of collapse operators\n",
    "    Ini          :  Initial state before the measurement process begins\n",
    "    gate         :  List of gate in the same procedure\n",
    "    CM           :  Confusion matris in the computational subspace\n",
    "    coeff        :  Coefficients in front of each measurement term in the cost function\n",
    "    \n",
    "    \n",
    "    Returns-\n",
    "    probabilities:  Diagonal elements of the density matrix subjected to the confusion\n",
    "                    matrix in the computational subspace.\n",
    "    '''\n",
    " \n",
    "    \n",
    "    probabilities = []\n",
    "    \n",
    "    for i in range(len(gate)):\n",
    "        \n",
    "        gate =  np.array(Info[i].name)\n",
    "        TC   =  np.array(Info[i].Tar_Con)\n",
    "        angle = np.array(Info[i].angle)\n",
    "        npoints = 1000\n",
    "        H1, tlist = pulse_hamiltonians(gate, TC, angle, npoints)\n",
    "        \n",
    "        H2 = sum(H1) + Hamiltonian\n",
    "        final_dm = mesolve(H2, Ini, tlist, c_ops, e_ops = [], options = Options(store_final_state=True))\n",
    "        \n",
    "        state_in_comp_space = _3to2levels(final_dm)\n",
    "        probabilities.append(coeff[i]*CM*state_in_comp_space)\n",
    "        \n",
    "    return probabilities\n",
    "        \n",
    "        \n",
    "    \n",
    "    \n",
    "    \n",
    "def _3to2levels(dm):\n",
    "    '''\n",
    "    This function returns the density matrix in the computational subspace.\n",
    "    \n",
    "    Arguments-\n",
    "    dm          :      Density matrix in the total Hilbert space\n",
    "    \n",
    "    Returns-\n",
    "    Prob_array  :      Array of probabilities in the computational space\n",
    "    \n",
    "    '''\n",
    "\n",
    "\n",
    "    import itertools as it\n",
    "\n",
    "    levels= list(map(\",\".join, it.product(*[map(str, range(Nlevels))])))\n",
    "    states = [\"\".join(seq) for seq in it.product(levels, repeat=Nqubits)]\n",
    "    Prob_array = []\n",
    "    counter = 0\n",
    "    for i in states:\n",
    "        if '2' not in i:\n",
    "            Prob_array.append(dm[counter, counter])\n",
    "        counter = counter + 1\n",
    "    \n",
    "    return np.array(Prob_array)\n",
    "        "
   ]
  },
  {
   "cell_type": "code",
   "execution_count": null,
   "id": "e4f311da",
   "metadata": {},
   "outputs": [],
   "source": []
  },
  {
   "cell_type": "code",
   "execution_count": 70,
   "id": "8a5e9ccd",
   "metadata": {},
   "outputs": [
    {
     "data": {
      "text/plain": [
       "array([2.15751297e-09+0.j, 2.54256638e-07+0.j, 5.33963155e-07+0.j,\n",
       "       7.13732252e-05+0.j, 4.68085905e-07+0.j, 4.91092009e-05+0.j,\n",
       "       6.45313752e-05+0.j, 7.48544682e-03+0.j])"
      ]
     },
     "execution_count": 70,
     "metadata": {},
     "output_type": "execute_result"
    }
   ],
   "source": [
    "qeye(8)*_3to2levels(fstate_noise)"
   ]
  },
  {
   "cell_type": "code",
   "execution_count": 68,
   "id": "f8997a9f",
   "metadata": {},
   "outputs": [
    {
     "data": {
      "text/latex": [
       "Quantum object: dims = [[8], [1]], shape = (8, 1), type = ket\\begin{equation*}\\left(\\begin{array}{*{11}c}2.158\\times10^{-09}\\\\2.543\\times10^{-07}\\\\5.340\\times10^{-07}\\\\7.137\\times10^{-05}\\\\4.681\\times10^{-07}\\\\4.911\\times10^{-05}\\\\6.453\\times10^{-05}\\\\0.007\\\\\\end{array}\\right)\\end{equation*}"
      ],
      "text/plain": [
       "Quantum object: dims = [[8], [1]], shape = (8, 1), type = ket\n",
       "Qobj data =\n",
       "[[2.15751297e-09]\n",
       " [2.54256638e-07]\n",
       " [5.33963155e-07]\n",
       " [7.13732252e-05]\n",
       " [4.68085905e-07]\n",
       " [4.91092009e-05]\n",
       " [6.45313752e-05]\n",
       " [7.48544682e-03]]"
      ]
     },
     "execution_count": 68,
     "metadata": {},
     "output_type": "execute_result"
    }
   ],
   "source": [
    "np.array(_3to2levels(fstate_noise))"
   ]
  },
  {
   "cell_type": "code",
   "execution_count": null,
   "id": "86de402e",
   "metadata": {},
   "outputs": [],
   "source": []
  },
  {
   "cell_type": "code",
   "execution_count": null,
   "id": "d3326ff1",
   "metadata": {},
   "outputs": [],
   "source": []
  },
  {
   "cell_type": "code",
   "execution_count": null,
   "id": "13d26131",
   "metadata": {},
   "outputs": [],
   "source": []
  },
  {
   "cell_type": "code",
   "execution_count": null,
   "id": "9f2d6053",
   "metadata": {},
   "outputs": [],
   "source": []
  },
  {
   "cell_type": "code",
   "execution_count": null,
   "id": "2c80ac81",
   "metadata": {},
   "outputs": [],
   "source": []
  }
 ],
 "metadata": {
  "kernelspec": {
   "display_name": "Python 3",
   "language": "python",
   "name": "python3"
  },
  "language_info": {
   "codemirror_mode": {
    "name": "ipython",
    "version": 3
   },
   "file_extension": ".py",
   "mimetype": "text/x-python",
   "name": "python",
   "nbconvert_exporter": "python",
   "pygments_lexer": "ipython3",
   "version": "3.8.8"
  }
 },
 "nbformat": 4,
 "nbformat_minor": 5
}
