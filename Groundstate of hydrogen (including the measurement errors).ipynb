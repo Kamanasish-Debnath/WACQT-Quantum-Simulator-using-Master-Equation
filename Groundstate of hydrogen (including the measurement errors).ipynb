{
 "cells": [
  {
   "cell_type": "code",
   "execution_count": 22,
   "id": "2d1e7ddc",
   "metadata": {},
   "outputs": [],
   "source": [
    "import numpy as np\n",
    "from qutip import*\n",
    "import matplotlib.pyplot as plt\n",
    "sqrt = np.sqrt\n",
    "pi   = np.pi\n",
    "class Add_gate:\n",
    "    def __init__(gate, name, Tar_Con, angle):\n",
    "        gate.name    = name\n",
    "        gate.Tar_Con = Tar_Con\n",
    "        gate.angle   = angle\n",
    "                \n",
    "Nqubits= 2\n",
    "Nlevels= 3\n",
    "Paulis_gt = 2.00e-8\n",
    "CZ_gt = 2.50e-7\n",
    "Diss = [35.98e-6, 36.24e-6]\n",
    "Deph = [38.74e-6, 39.34e-6]\n",
    "Alpha = -2*pi*200e6\n",
    "ZZ_list = [[0,1]]\n",
    "ZZ_strength = [2*pi*100e3]"
   ]
  },
  {
   "cell_type": "code",
   "execution_count": 23,
   "id": "86756b7f",
   "metadata": {},
   "outputs": [],
   "source": [
    "# Import the developed package\n",
    "import Chalmers_Simulator_mesolve as CS"
   ]
  },
  {
   "cell_type": "code",
   "execution_count": 24,
   "id": "2c4c78b2",
   "metadata": {},
   "outputs": [],
   "source": [
    "# Create Hamiltonian and collapse operators\n",
    "Hamiltonian, c_ops = CS.create_system_Hamiltonian(Nqubits, Nlevels, Paulis_gt, CZ_gt, 0, Alpha, Diss, \\\n",
    "                                                  Deph, Texc = [], ZZ_list=[], ZZ_strength=[])"
   ]
  },
  {
   "cell_type": "code",
   "execution_count": 25,
   "id": "e72cb0d3",
   "metadata": {},
   "outputs": [],
   "source": [
    "# Specify the confusion matrix and Initial state\n",
    "CF00 = [0.968, 0.020, 0.011, 0.000]\n",
    "CF01 = [0.059, 0.930, 0.010, 0.011]\n",
    "CF10 = [0.059, 0.001, 0.921, 0.019]\n",
    "CF11 = [0.040, 0.057, 0.056, 0.884]\n",
    "CM = Qobj([CF00, CF01, CF10, CF11])\n",
    "\n",
    "Theta_range= np.linspace(0,2*pi,50)\n",
    "Ini = tensor(basis(3,0), basis(3,0))\n",
    "\n",
    "coeff = [-1.0537076071291114, 0.3939836794385142, -0.3939836794385142, \\\n",
    "         -0.011236585233181995, 0.181288808211496]"
   ]
  },
  {
   "cell_type": "code",
   "execution_count": 26,
   "id": "761f42f3",
   "metadata": {},
   "outputs": [
    {
     "name": "stdout",
     "output_type": "stream",
     "text": [
      "10 of 50 completed\n",
      "20 of 50 completed\n",
      "30 of 50 completed\n",
      "40 of 50 completed\n",
      "50 of 50 completed\n"
     ]
    }
   ],
   "source": [
    "cost = []\n",
    "for i, theta in enumerate(Theta_range):\n",
    "    \n",
    "    # Quantum circuit\n",
    "    gate=[]\n",
    "    gate.append(Add_gate(name=[\"PX\" , \"HD\"], Tar_Con=[0,1],   angle=[pi, 0]           ))\n",
    "    gate.append(Add_gate(name=[\"PX\" , \"PZ\"], Tar_Con=[0,1],   angle=[pi/2, theta]     ))\n",
    "    gate.append(Add_gate(name=[\"HD\"       ], Tar_Con=[1],     angle=[0]               ))\n",
    "    gate.append(Add_gate(name=[\"CZ\"       ], Tar_Con=[[0,1]], angle=[0]               ))\n",
    "    gate.append(Add_gate(name=[\"PX\"       ], Tar_Con=[0],     angle=[-pi/2]           ))\n",
    "    fstate = CS.Execute(Hamiltonian, c_ops, gate, Ini)    \n",
    "    \n",
    "    # Measurement\n",
    "    gate=[]\n",
    "    gate.append(Add_gate(name=[\"I\" , \"I\"],  Tar_Con=[0,1],   angle=[0, 0]           ))\n",
    "    gate.append(Add_gate(name=[\"I\" , \"PZ\"], Tar_Con=[0,1],   angle=[0, 0]           ))\n",
    "    gate.append(Add_gate(name=[\"PZ\" , \"I\"], Tar_Con=[0,1],   angle=[0, 0]           ))\n",
    "    gate.append(Add_gate(name=[\"PZ\" , \"PZ\"],Tar_Con=[0,1],   angle=[0, 0]           ))\n",
    "    gate.append(Add_gate(name=[\"PY\" , \"PY\"],Tar_Con=[0,1],   angle=[-pi/2, -pi/2]     ))\n",
    "    cost.append(CS.Measurement(Hamiltonian, c_ops, fstate, gate, CM, coeff))\n",
    "    if np.mod(i+1, 10) == 0:\n",
    "        print(i+1, 'of', len(Theta_range), 'completed')"
   ]
  },
  {
   "cell_type": "code",
   "execution_count": 27,
   "id": "bafa646d",
   "metadata": {},
   "outputs": [
    {
     "data": {
      "image/png": "[encoded data removed]",
      "text/plain": [
       "<Figure size 432x288 with 1 Axes>"
      ]
     },
     "metadata": {
      "needs_background": "light"
     },
     "output_type": "display_data"
    }
   ],
   "source": [
    "import pickle\n",
    "with open('Cost_func_expt','rb') as read_file:\n",
    "    expt = pickle.load(read_file)\n",
    "theta_expt = np.linspace(0,2*pi,len(expt))\n",
    "\n",
    "\n",
    "# Plot the results\n",
    "plt.plot(Theta_range, cost, linewidth = 3, label = 'Simulation', color='coral')\n",
    "\n",
    "# Experimental results\n",
    "plt.plot(theta_expt, expt,'o', markersize = 8, markerfacecolor='None', label= 'Experiment')\n",
    "plt.grid('on')\n",
    "plt.legend(loc= 'upper center', fontsize = 15)\n",
    "plt.xlabel(r'$\\theta$', fontsize = 20)\n",
    "plt.ylabel(\"Cost function\", fontsize = 17);\n",
    "plt.xticks([0,pi,2*pi], [0,r'$\\pi$',r'$2\\pi$'], fontsize = 17)\n",
    "plt.yticks(fontsize = 14)\n",
    "plt.subplots_adjust(left=0.16)\n",
    "plt.subplots_adjust(bottom=0.16)\n",
    "plt.savefig(\"Hydrogen.pdf\")"
   ]
  },
  {
   "cell_type": "code",
   "execution_count": 28,
   "id": "f281b72b",
   "metadata": {},
   "outputs": [
    {
     "name": "stdout",
     "output_type": "stream",
     "text": [
      "RESULTS\n",
      "==================================================\n",
      "Minimum energy (THEORY)\t: -1.7456\n",
      "Minimum energy (EXPT)\t: -1.7563\n",
      "==================================================\n"
     ]
    }
   ],
   "source": [
    "print(\"RESULTS\")\n",
    "print(\"=\"*50)\n",
    "print(\"Minimum energy (THEORY)\\t:\", np.round(np.min(cost),4))\n",
    "print(\"Minimum energy (EXPT)\\t:\", np.round(np.min(expt),4))\n",
    "print(\"=\"*50)"
   ]
  },
  {
   "cell_type": "code",
   "execution_count": null,
   "id": "7de2bf63",
   "metadata": {},
   "outputs": [],
   "source": []
  },
  {
   "cell_type": "code",
   "execution_count": 43,
   "id": "1a10133b",
   "metadata": {},
   "outputs": [],
   "source": [
    "from qutip.qip.circuit import Gate\n",
    "from qutip.qip.circuit import QubitCircuit, Gate\n",
    "qc = QubitCircuit(N=2)\n",
    "qc.add_gate(\"CZ\", targets=0, controls = 1)\n",
    "Z = qc.propagators()[0]"
   ]
  },
  {
   "cell_type": "code",
   "execution_count": 44,
   "id": "61402bbd",
   "metadata": {},
   "outputs": [
    {
     "data": {
      "image/png": "[encoded data removed]",
      "text/plain": [
       "<Figure size 576x432 with 2 Axes>"
      ]
     },
     "metadata": {
      "needs_background": "light"
     },
     "output_type": "display_data"
    }
   ],
   "source": [
    "hinton(Z)\n",
    "Z = to_super(Z)"
   ]
  },
  {
   "cell_type": "code",
   "execution_count": 45,
   "id": "084a66b4",
   "metadata": {},
   "outputs": [
    {
     "data": {
      "text/plain": [
       "(<Figure size 576x432 with 2 Axes>, <AxesSubplot:>)"
      ]
     },
     "execution_count": 45,
     "metadata": {},
     "output_type": "execute_result"
    },
    {
     "data": {
      "image/png": "[encoded data removed]",
      "text/plain": [
       "<Figure size 576x432 with 2 Axes>"
      ]
     },
     "metadata": {
      "needs_background": "light"
     },
     "output_type": "display_data"
    }
   ],
   "source": [
    "hinton(Z)"
   ]
  },
  {
   "cell_type": "code",
   "execution_count": 46,
   "id": "cc7ac784",
   "metadata": {},
   "outputs": [
    {
     "data": {
      "text/latex": [
       "Quantum object: dims = [[[2, 2], [2, 2]], [[2, 2], [2, 2]]], shape = (16, 16), type = super, isherm = True\\begin{equation*}\\left(\\begin{array}{*{11}c}1.0 & 0.0 & 0.0 & 0.0 & 0.0 & \\cdots & 0.0 & 0.0 & 0.0 & 0.0 & 0.0\\\\0.0 & 1.0 & 0.0 & 0.0 & 0.0 & \\cdots & 0.0 & 0.0 & 0.0 & 0.0 & 0.0\\\\0.0 & 0.0 & 1.0 & 0.0 & 0.0 & \\cdots & 0.0 & 0.0 & 0.0 & 0.0 & 0.0\\\\0.0 & 0.0 & 0.0 & -1.0 & 0.0 & \\cdots & 0.0 & 0.0 & 0.0 & 0.0 & 0.0\\\\0.0 & 0.0 & 0.0 & 0.0 & 1.0 & \\cdots & 0.0 & 0.0 & 0.0 & 0.0 & 0.0\\\\\\vdots & \\vdots & \\vdots & \\vdots & \\vdots & \\ddots & \\vdots & \\vdots & \\vdots & \\vdots & \\vdots\\\\0.0 & 0.0 & 0.0 & 0.0 & 0.0 & \\cdots & -1.0 & 0.0 & 0.0 & 0.0 & 0.0\\\\0.0 & 0.0 & 0.0 & 0.0 & 0.0 & \\cdots & 0.0 & -1.0 & 0.0 & 0.0 & 0.0\\\\0.0 & 0.0 & 0.0 & 0.0 & 0.0 & \\cdots & 0.0 & 0.0 & -1.0 & 0.0 & 0.0\\\\0.0 & 0.0 & 0.0 & 0.0 & 0.0 & \\cdots & 0.0 & 0.0 & 0.0 & -1.0 & 0.0\\\\0.0 & 0.0 & 0.0 & 0.0 & 0.0 & \\cdots & 0.0 & 0.0 & 0.0 & 0.0 & 1.0\\\\\\end{array}\\right)\\end{equation*}"
      ],
      "text/plain": [
       "Quantum object: dims = [[[2, 2], [2, 2]], [[2, 2], [2, 2]]], shape = (16, 16), type = super, isherm = True\n",
       "Qobj data =\n",
       "[[ 1.  0.  0.  0.  0.  0.  0.  0.  0.  0.  0.  0.  0.  0.  0.  0.]\n",
       " [ 0.  1.  0.  0.  0.  0.  0.  0.  0.  0.  0.  0.  0.  0.  0.  0.]\n",
       " [ 0.  0.  1.  0.  0.  0.  0.  0.  0.  0.  0.  0.  0.  0.  0.  0.]\n",
       " [ 0.  0.  0. -1.  0.  0.  0.  0.  0.  0.  0.  0.  0.  0.  0.  0.]\n",
       " [ 0.  0.  0.  0.  1.  0.  0.  0.  0.  0.  0.  0.  0.  0.  0.  0.]\n",
       " [ 0.  0.  0.  0.  0.  1.  0.  0.  0.  0.  0.  0.  0.  0.  0.  0.]\n",
       " [ 0.  0.  0.  0.  0.  0.  1.  0.  0.  0.  0.  0.  0.  0.  0.  0.]\n",
       " [ 0.  0.  0.  0.  0.  0.  0. -1.  0.  0.  0.  0.  0.  0.  0.  0.]\n",
       " [ 0.  0.  0.  0.  0.  0.  0.  0.  1.  0.  0.  0.  0.  0.  0.  0.]\n",
       " [ 0.  0.  0.  0.  0.  0.  0.  0.  0.  1.  0.  0.  0.  0.  0.  0.]\n",
       " [ 0.  0.  0.  0.  0.  0.  0.  0.  0.  0.  1.  0.  0.  0.  0.  0.]\n",
       " [ 0.  0.  0.  0.  0.  0.  0.  0.  0.  0.  0. -1.  0.  0.  0.  0.]\n",
       " [ 0.  0.  0.  0.  0.  0.  0.  0.  0.  0.  0.  0. -1.  0.  0.  0.]\n",
       " [ 0.  0.  0.  0.  0.  0.  0.  0.  0.  0.  0.  0.  0. -1.  0.  0.]\n",
       " [ 0.  0.  0.  0.  0.  0.  0.  0.  0.  0.  0.  0.  0.  0. -1.  0.]\n",
       " [ 0.  0.  0.  0.  0.  0.  0.  0.  0.  0.  0.  0.  0.  0.  0.  1.]]"
      ]
     },
     "execution_count": 46,
     "metadata": {},
     "output_type": "execute_result"
    }
   ],
   "source": [
    "Z"
   ]
  },
  {
   "cell_type": "code",
   "execution_count": null,
   "id": "aee75df6",
   "metadata": {},
   "outputs": [],
   "source": []
  }
 ],
 "metadata": {
  "kernelspec": {
   "display_name": "Python 3",
   "language": "python",
   "name": "python3"
  },
  "language_info": {
   "codemirror_mode": {
    "name": "ipython",
    "version": 3
   },
   "file_extension": ".py",
   "mimetype": "text/x-python",
   "name": "python",
   "nbconvert_exporter": "python",
   "pygments_lexer": "ipython3",
   "version": "3.8.8"
  }
 },
 "nbformat": 4,
 "nbformat_minor": 5
}
