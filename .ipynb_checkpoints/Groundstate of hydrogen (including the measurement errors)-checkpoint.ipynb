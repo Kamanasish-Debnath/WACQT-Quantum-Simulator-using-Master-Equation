{
 "cells": [
  {
   "cell_type": "code",
   "execution_count": 1,
   "id": "6ceae6a2",
   "metadata": {},
   "outputs": [
    {
     "name": "stdout",
     "output_type": "stream",
     "text": [
      "The quantum gates which are modelled in this code and their notations-\n",
      "--------------------------------------------------------------------------------\n",
      "Pauli X \t\t PX\n",
      "Pauli Y \t\t PY\n",
      "Pauli Z \t\t PZ\n",
      "Hadamard \t\t HD\n",
      "\n",
      "\n",
      "Controlled Z \t\t CZ \t\t Format:Tar_Con=[[control, target]]\n",
      "Controlled CZS \t\t CCZS \t\t Format:Tar_Con=[[control, target1, target2, phi]]\n"
     ]
    }
   ],
   "source": [
    "import numpy as np\n",
    "from qutip import*\n",
    "sqrt = np.sqrt\n",
    "pi   = np.pi\n",
    "import Chalmers_Simulator_mesolve as CS\n",
    "class Add_gate:\n",
    "    def __init__(gate, name, Tar_Con, angle):\n",
    "        gate.name    = name\n",
    "        gate.Tar_Con = Tar_Con\n",
    "        gate.angle   = angle"
   ]
  },
  {
   "cell_type": "code",
   "execution_count": 2,
   "id": "ae6f5bc5",
   "metadata": {},
   "outputs": [],
   "source": [
    "Nqubits= 2\n",
    "Nlevels= 3\n",
    "Paulis_gt = 2.00e-8\n",
    "CZ_gt = 2.50e-7\n",
    "Diss = [35.98e-6, 36.24e-6]\n",
    "Deph = [38.74e-6, 39.34e-6]\n",
    "Alpha = -2*pi*300e6\n",
    "ZZ_list = [[0,1]]\n",
    "ZZ_strength = [2*pi*150e3]\n",
    "Hamiltonian, c_ops = CS.create_system_Hamiltonian(Nqubits, Nlevels, Paulis_gt, CZ_gt, 0, Alpha, Diss, \\\n",
    "                                                  Deph, Texc = [], ZZ_list=[], ZZ_strength=[])\n",
    "\n",
    "Sz = Qobj(np.array(np.array([[1, 0, 0], [0, -1, 0], [0, 0, 1]])))\n",
    "Sx = Qobj(np.array(np.array([[0, 1, 0], [1, 0, 0], [0, 0, 1]])))\n",
    "Un = qeye(3)\n",
    "\n",
    "# Calculating the cost function\n",
    "H1=  -1.0537076071291114*  tensor(Un,  Un)\n",
    "H2=  0.3939836794385142*   tensor(Un,  Sz)\n",
    "H3= -0.3939836794385142*   tensor(Sz,  Un)\n",
    "H4= -0.011236585233181995* tensor(Sz,  Sz)\n",
    "H5=  0.181288808211496*    tensor(Sx,  Sx)\n",
    "cost_function= H1 + H2 + H3 + H4 + H5\n",
    "\n",
    "Theta_range= np.linspace(0,2*pi,50)\n",
    "state=[]\n",
    "cost=[]\n",
    "Ini = tensor(basis(3,0), basis(3,0))"
   ]
  },
  {
   "cell_type": "code",
   "execution_count": 3,
   "id": "de086464",
   "metadata": {},
   "outputs": [],
   "source": [
    "CF00 = [0.968, 0.020, 0.011, 0.000]\n",
    "CF01 = [0.059, 0.930, 0.010, 0.011]\n",
    "CF10 = [0.059, 0.001, 0.921, 0.019]\n",
    "CF11 = [0.040, 0.057, 0.056, 0.884]\n",
    "CM = Qobj([CF00, CF01, CF10, CF11])"
   ]
  },
  {
   "cell_type": "code",
   "execution_count": 4,
   "id": "4b18734b",
   "metadata": {},
   "outputs": [
    {
     "name": "stdout",
     "output_type": "stream",
     "text": [
      "10 of 50 completed\n",
      "20 of 50 completed\n",
      "30 of 50 completed\n",
      "40 of 50 completed\n",
      "50 of 50 completed\n"
     ]
    }
   ],
   "source": [
    "coeff = [-1.0537076071291114, 0.3939836794385142, -0.3939836794385142, \\\n",
    "         -0.011236585233181995, 0.181288808211496]\n",
    "cost = []\n",
    "for i, theta in enumerate(Theta_range):\n",
    "    \n",
    "    gate=[]\n",
    "    gate.append(Add_gate(name=[\"PX\" , \"HD\"], Tar_Con=[0,1],   angle=[pi, 0]           ))\n",
    "    gate.append(Add_gate(name=[\"PX\" , \"PZ\"], Tar_Con=[0,1],   angle=[pi/2, theta]     ))\n",
    "    gate.append(Add_gate(name=[\"HD\"       ], Tar_Con=[1],     angle=[0]               ))\n",
    "    gate.append(Add_gate(name=[\"CZ\"       ], Tar_Con=[[0,1]], angle=[0]               ))\n",
    "    gate.append(Add_gate(name=[\"PX\"       ], Tar_Con=[0],     angle=[-pi/2]           ))\n",
    "    fstate = CS.Execute(Hamiltonian, c_ops, gate, Ini)    \n",
    "    \n",
    "    # Measurment part begins\n",
    "    gate=[]\n",
    "    gate.append(Add_gate(name=[\"U\" , \"U\"],  Tar_Con=[0,1],   angle=[0, 0]           ))\n",
    "    gate.append(Add_gate(name=[\"U\" , \"PZ\"], Tar_Con=[0,1],   angle=[0, 0]           ))\n",
    "    gate.append(Add_gate(name=[\"PZ\" , \"U\"], Tar_Con=[0,1],   angle=[0, 0]           ))\n",
    "    gate.append(Add_gate(name=[\"PZ\" , \"PZ\"],Tar_Con=[0,1],   angle=[0, 0]           ))\n",
    "    gate.append(Add_gate(name=[\"PY\" , \"PY\"],Tar_Con=[0,1],   angle=[-pi/2, -pi/2]     ))\n",
    "    cost.append(np.sum(np.real(CS.Measurement(Hamiltonian, fstate, gate, CM, coeff))))\n",
    "    if np.mod(i+1, 10) == 0:\n",
    "        print(i+1, 'of', len(Theta_range), 'completed')"
   ]
  },
  {
   "cell_type": "code",
   "execution_count": 5,
   "id": "498c0799",
   "metadata": {},
   "outputs": [
    {
     "data": {
      "image/png": "[encoded data removed]",
      "text/plain": [
       "<Figure size 432x288 with 1 Axes>"
      ]
     },
     "metadata": {
      "needs_background": "light"
     },
     "output_type": "display_data"
    }
   ],
   "source": [
    "import matplotlib.pyplot as plt\n",
    "plt.plot(Theta_range, cost, linewidth = 3)\n",
    "\n",
    "\n",
    "import pickle\n",
    "with open('Cost_func_expt','rb') as read_file:\n",
    "    expt = pickle.load(read_file)\n",
    "theta_expt = np.linspace(0,2*pi,len(expt))\n",
    "\n",
    "plt.plot(theta_expt, expt,'o', markersize = 10, markerfacecolor='None')\n",
    "plt.grid('on')"
   ]
  },
  {
   "cell_type": "code",
   "execution_count": 6,
   "id": "2c7e5ad3",
   "metadata": {},
   "outputs": [
    {
     "name": "stdout",
     "output_type": "stream",
     "text": [
      "Minimum energy (THEORY)\t: -1.7650067965006548\n",
      "Minimum energy (EXPT)\t: -1.756267866814761\n"
     ]
    }
   ],
   "source": [
    "print(\"Minimum energy (THEORY)\\t:\", np.min(cost))\n",
    "print(\"Minimum energy (EXPT)\\t:\", np.min(expt))"
   ]
  },
  {
   "cell_type": "code",
   "execution_count": null,
   "id": "267a22df",
   "metadata": {},
   "outputs": [],
   "source": []
  },
  {
   "cell_type": "code",
   "execution_count": null,
   "id": "68923788",
   "metadata": {},
   "outputs": [],
   "source": []
  },
  {
   "cell_type": "code",
   "execution_count": null,
   "id": "89faf34e",
   "metadata": {},
   "outputs": [],
   "source": []
  },
  {
   "cell_type": "code",
   "execution_count": null,
   "id": "7d8fd895",
   "metadata": {},
   "outputs": [],
   "source": []
  }
 ],
 "metadata": {
  "kernelspec": {
   "display_name": "Python 3",
   "language": "python",
   "name": "python3"
  },
  "language_info": {
   "codemirror_mode": {
    "name": "ipython",
    "version": 3
   },
   "file_extension": ".py",
   "mimetype": "text/x-python",
   "name": "python",
   "nbconvert_exporter": "python",
   "pygments_lexer": "ipython3",
   "version": "3.8.8"
  }
 },
 "nbformat": 4,
 "nbformat_minor": 5
}
